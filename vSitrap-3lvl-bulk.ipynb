{
 "cells": [
  {
   "cell_type": "code",
   "execution_count": 1,
   "metadata": {
    "collapsed": true
   },
   "outputs": [],
   "source": [
    "%matplotlib inline\n",
    "#%matplotlib notebook\n",
    "\n",
    "import numpy as np\n",
    "import matplotlib.pyplot as plt\n",
    "from matplotlib import colors as mcolors\n",
    "\n",
    "import datetime\n",
    "import os\n",
    "import sys\n",
    "from qutip import *\n",
    "\n",
    "# from ipywidgets import FloatProgress\n",
    "# from IPython.display import display\n",
    "\n",
    "from vStirapRunner import vStirap_3lvl_runner"
   ]
  },
  {
   "cell_type": "code",
   "execution_count": 2,
   "metadata": {},
   "outputs": [],
   "source": [
    "data_folder = './data'\n",
    "\n",
    "i = np.complex(0,1)\n",
    "\n",
    "# Linear cavity eigenmodes.\n",
    "alpha_CL, phi1_CL, phi2_CL = 1, 0*np.pi/180, 0*np.pi/180\n",
    "\n",
    "g = 3 * 2.*np.pi\n",
    "kappa = 1 * 2.*np.pi\n",
    "gamma = 3 * 2.*np.pi\n",
    "\n",
    "Omega = 3 * 2.*np.pi"
   ]
  },
  {
   "cell_type": "code",
   "execution_count": 3,
   "metadata": {
    "collapsed": false
   },
   "outputs": [
    {
     "name": "stdout",
     "output_type": "stream",
     "text": [
      "Running exp for kappa=0MHz...\n\tRunning exp for deltaP=0.0MHz..."
     ]
    },
    {
     "name": "stdout",
     "output_type": "stream",
     "text": [
      "\tdone.\n\tRunning exp for deltaP=0.5MHz..."
     ]
    },
    {
     "name": "stdout",
     "output_type": "stream",
     "text": [
      "\tdone.\n\tRunning exp for deltaP=1.0MHz..."
     ]
    },
    {
     "name": "stdout",
     "output_type": "stream",
     "text": [
      "\tdone.\n\tRunning exp for deltaP=1.5MHz..."
     ]
    },
    {
     "name": "stdout",
     "output_type": "stream",
     "text": [
      "\tdone.\n\tRunning exp for deltaP=2.0MHz..."
     ]
    },
    {
     "name": "stdout",
     "output_type": "stream",
     "text": [
      "\tdone.\n\tRunning exp for deltaP=2.5MHz..."
     ]
    },
    {
     "name": "stdout",
     "output_type": "stream",
     "text": [
      "\tdone.\n\tRunning exp for deltaP=3.0MHz..."
     ]
    },
    {
     "name": "stdout",
     "output_type": "stream",
     "text": [
      "\tdone.\n\tRunning exp for deltaP=3.5MHz..."
     ]
    },
    {
     "name": "stdout",
     "output_type": "stream",
     "text": [
      "\tdone.\n\tRunning exp for deltaP=4.0MHz..."
     ]
    },
    {
     "name": "stdout",
     "output_type": "stream",
     "text": [
      "\tdone.\n\tRunning exp for deltaP=4.5MHz..."
     ]
    },
    {
     "name": "stdout",
     "output_type": "stream",
     "text": [
      "\tdone.\n\tRunning exp for deltaP=5.0MHz...\tdone.\n\tRunning exp for deltaP=5.5MHz..."
     ]
    },
    {
     "name": "stdout",
     "output_type": "stream",
     "text": [
      "\tdone.\n\tRunning exp for deltaP=6.0MHz..."
     ]
    },
    {
     "name": "stdout",
     "output_type": "stream",
     "text": [
      "\tdone.\n\tRunning exp for deltaP=6.5MHz..."
     ]
    },
    {
     "name": "stdout",
     "output_type": "stream",
     "text": [
      "\tdone.\n\tRunning exp for deltaP=7.0MHz..."
     ]
    },
    {
     "name": "stdout",
     "output_type": "stream",
     "text": [
      "\tdone.\n\tRunning exp for deltaP=7.5MHz..."
     ]
    },
    {
     "name": "stdout",
     "output_type": "stream",
     "text": [
      "\tdone.\n\tRunning exp for deltaP=8.0MHz..."
     ]
    },
    {
     "name": "stdout",
     "output_type": "stream",
     "text": [
      "\tdone.\n\tRunning exp for deltaP=8.5MHz..."
     ]
    },
    {
     "name": "stdout",
     "output_type": "stream",
     "text": [
      "\tdone.\n\tRunning exp for deltaP=9.0MHz..."
     ]
    },
    {
     "name": "stdout",
     "output_type": "stream",
     "text": [
      "\tdone.\n\tRunning exp for deltaP=9.5MHz..."
     ]
    },
    {
     "name": "stdout",
     "output_type": "stream",
     "text": [
      "\tdone.\n\tRunning exp for deltaP=10.0MHz..."
     ]
    },
    {
     "name": "stdout",
     "output_type": "stream",
     "text": [
      "\tdone.\ndone.\nRunning exp for kappa=1MHz...\n\tRunning exp for deltaP=0.0MHz..."
     ]
    },
    {
     "name": "stdout",
     "output_type": "stream",
     "text": [
      "\tdone.\n\tRunning exp for deltaP=0.5MHz..."
     ]
    },
    {
     "name": "stdout",
     "output_type": "stream",
     "text": [
      "\tdone.\n\tRunning exp for deltaP=1.0MHz..."
     ]
    },
    {
     "name": "stdout",
     "output_type": "stream",
     "text": [
      "\tdone.\n\tRunning exp for deltaP=1.5MHz...\tdone.\n\tRunning exp for deltaP=2.0MHz..."
     ]
    },
    {
     "name": "stdout",
     "output_type": "stream",
     "text": [
      "\tdone.\n\tRunning exp for deltaP=2.5MHz..."
     ]
    },
    {
     "name": "stdout",
     "output_type": "stream",
     "text": [
      "\tdone.\n\tRunning exp for deltaP=3.0MHz..."
     ]
    },
    {
     "name": "stdout",
     "output_type": "stream",
     "text": [
      "\tdone.\n\tRunning exp for deltaP=3.5MHz..."
     ]
    },
    {
     "name": "stdout",
     "output_type": "stream",
     "text": [
      "\tdone.\n\tRunning exp for deltaP=4.0MHz..."
     ]
    },
    {
     "name": "stdout",
     "output_type": "stream",
     "text": [
      "\tdone.\n\tRunning exp for deltaP=4.5MHz..."
     ]
    },
    {
     "name": "stdout",
     "output_type": "stream",
     "text": [
      "\tdone.\n\tRunning exp for deltaP=5.0MHz..."
     ]
    },
    {
     "name": "stdout",
     "output_type": "stream",
     "text": [
      "\tdone.\n\tRunning exp for deltaP=5.5MHz..."
     ]
    },
    {
     "name": "stdout",
     "output_type": "stream",
     "text": [
      "\tdone.\n\tRunning exp for deltaP=6.0MHz..."
     ]
    },
    {
     "name": "stdout",
     "output_type": "stream",
     "text": [
      "\tdone.\n\tRunning exp for deltaP=6.5MHz..."
     ]
    },
    {
     "name": "stdout",
     "output_type": "stream",
     "text": [
      "\tdone.\n\tRunning exp for deltaP=7.0MHz..."
     ]
    },
    {
     "name": "stdout",
     "output_type": "stream",
     "text": [
      "\tdone.\n\tRunning exp for deltaP=7.5MHz..."
     ]
    },
    {
     "name": "stdout",
     "output_type": "stream",
     "text": [
      "\tdone.\n\tRunning exp for deltaP=8.0MHz..."
     ]
    },
    {
     "name": "stdout",
     "output_type": "stream",
     "text": [
      "\tdone.\n\tRunning exp for deltaP=8.5MHz..."
     ]
    },
    {
     "name": "stdout",
     "output_type": "stream",
     "text": [
      "\tdone.\n\tRunning exp for deltaP=9.0MHz..."
     ]
    },
    {
     "name": "stdout",
     "output_type": "stream",
     "text": [
      "\tdone.\n\tRunning exp for deltaP=9.5MHz..."
     ]
    },
    {
     "name": "stdout",
     "output_type": "stream",
     "text": [
      "\tdone.\n\tRunning exp for deltaP=10.0MHz..."
     ]
    },
    {
     "name": "stdout",
     "output_type": "stream",
     "text": [
      "\tdone.\ndone.\nRunning exp for kappa=2MHz...\n"
     ]
    },
    {
     "name": "stdout",
     "output_type": "stream",
     "text": [
      "\tRunning exp for deltaP=0.0MHz...\tdone.\n\tRunning exp for deltaP=0.5MHz..."
     ]
    },
    {
     "name": "stdout",
     "output_type": "stream",
     "text": [
      "\tdone.\n\tRunning exp for deltaP=1.0MHz..."
     ]
    },
    {
     "name": "stdout",
     "output_type": "stream",
     "text": [
      "\tdone.\n\tRunning exp for deltaP=1.5MHz..."
     ]
    },
    {
     "name": "stdout",
     "output_type": "stream",
     "text": [
      "\tdone.\n\tRunning exp for deltaP=2.0MHz..."
     ]
    },
    {
     "name": "stdout",
     "output_type": "stream",
     "text": [
      "\tdone.\n\tRunning exp for deltaP=2.5MHz..."
     ]
    },
    {
     "name": "stdout",
     "output_type": "stream",
     "text": [
      "\tdone.\n\tRunning exp for deltaP=3.0MHz..."
     ]
    },
    {
     "name": "stdout",
     "output_type": "stream",
     "text": [
      "\tdone.\n\tRunning exp for deltaP=3.5MHz..."
     ]
    },
    {
     "name": "stdout",
     "output_type": "stream",
     "text": [
      "\tdone.\n\tRunning exp for deltaP=4.0MHz..."
     ]
    },
    {
     "name": "stdout",
     "output_type": "stream",
     "text": [
      "\tdone.\n\tRunning exp for deltaP=4.5MHz..."
     ]
    },
    {
     "name": "stdout",
     "output_type": "stream",
     "text": [
      "\tdone.\n\tRunning exp for deltaP=5.0MHz..."
     ]
    },
    {
     "name": "stdout",
     "output_type": "stream",
     "text": [
      "\tdone.\n\tRunning exp for deltaP=5.5MHz..."
     ]
    },
    {
     "name": "stdout",
     "output_type": "stream",
     "text": [
      "\tdone.\n\tRunning exp for deltaP=6.0MHz..."
     ]
    },
    {
     "name": "stdout",
     "output_type": "stream",
     "text": [
      "\tdone.\n\tRunning exp for deltaP=6.5MHz..."
     ]
    },
    {
     "name": "stdout",
     "output_type": "stream",
     "text": [
      "\tdone.\n\tRunning exp for deltaP=7.0MHz..."
     ]
    },
    {
     "name": "stdout",
     "output_type": "stream",
     "text": [
      "\tdone.\n\tRunning exp for deltaP=7.5MHz..."
     ]
    },
    {
     "name": "stdout",
     "output_type": "stream",
     "text": [
      "\tdone.\n\tRunning exp for deltaP=8.0MHz..."
     ]
    },
    {
     "name": "stdout",
     "output_type": "stream",
     "text": [
      "\tdone.\n\tRunning exp for deltaP=8.5MHz...\tdone."
     ]
    },
    {
     "name": "stdout",
     "output_type": "stream",
     "text": [
      "\n\tRunning exp for deltaP=9.0MHz...\tdone.\n\tRunning exp for deltaP=9.5MHz..."
     ]
    },
    {
     "name": "stdout",
     "output_type": "stream",
     "text": [
      "\tdone.\n\tRunning exp for deltaP=10.0MHz..."
     ]
    },
    {
     "name": "stdout",
     "output_type": "stream",
     "text": [
      "\tdone.\ndone.\nRunning exp for kappa=4MHz...\n\tRunning exp for deltaP=0.0MHz..."
     ]
    },
    {
     "name": "stdout",
     "output_type": "stream",
     "text": [
      "\tdone.\n\tRunning exp for deltaP=0.5MHz..."
     ]
    },
    {
     "name": "stdout",
     "output_type": "stream",
     "text": [
      "\tdone.\n\tRunning exp for deltaP=1.0MHz..."
     ]
    },
    {
     "name": "stdout",
     "output_type": "stream",
     "text": [
      "\tdone.\n\tRunning exp for deltaP=1.5MHz..."
     ]
    },
    {
     "name": "stdout",
     "output_type": "stream",
     "text": [
      "\tdone.\n\tRunning exp for deltaP=2.0MHz..."
     ]
    },
    {
     "name": "stdout",
     "output_type": "stream",
     "text": [
      "\tdone.\n\tRunning exp for deltaP=2.5MHz..."
     ]
    },
    {
     "name": "stdout",
     "output_type": "stream",
     "text": [
      "\tdone.\n\tRunning exp for deltaP=3.0MHz..."
     ]
    },
    {
     "name": "stdout",
     "output_type": "stream",
     "text": [
      "\tdone.\n\tRunning exp for deltaP=3.5MHz..."
     ]
    },
    {
     "name": "stdout",
     "output_type": "stream",
     "text": [
      "\tdone.\n\tRunning exp for deltaP=4.0MHz..."
     ]
    },
    {
     "name": "stdout",
     "output_type": "stream",
     "text": [
      "\tdone.\n\tRunning exp for deltaP=4.5MHz..."
     ]
    },
    {
     "name": "stdout",
     "output_type": "stream",
     "text": [
      "\tdone.\n\tRunning exp for deltaP=5.0MHz..."
     ]
    },
    {
     "name": "stdout",
     "output_type": "stream",
     "text": [
      "\tdone.\n\tRunning exp for deltaP=5.5MHz..."
     ]
    },
    {
     "name": "stdout",
     "output_type": "stream",
     "text": [
      "\tdone.\n\tRunning exp for deltaP=6.0MHz..."
     ]
    },
    {
     "name": "stdout",
     "output_type": "stream",
     "text": [
      "\tdone.\n\tRunning exp for deltaP=6.5MHz..."
     ]
    },
    {
     "name": "stdout",
     "output_type": "stream",
     "text": [
      "\tdone.\n\tRunning exp for deltaP=7.0MHz..."
     ]
    },
    {
     "name": "stdout",
     "output_type": "stream",
     "text": [
      "\tdone.\n\tRunning exp for deltaP=7.5MHz..."
     ]
    },
    {
     "name": "stdout",
     "output_type": "stream",
     "text": [
      "\tdone.\n\tRunning exp for deltaP=8.0MHz..."
     ]
    },
    {
     "name": "stdout",
     "output_type": "stream",
     "text": [
      "\tdone.\n\tRunning exp for deltaP=8.5MHz..."
     ]
    },
    {
     "name": "stdout",
     "output_type": "stream",
     "text": [
      "\tdone.\n\tRunning exp for deltaP=9.0MHz..."
     ]
    },
    {
     "name": "stdout",
     "output_type": "stream",
     "text": [
      "\tdone.\n\tRunning exp for deltaP=9.5MHz..."
     ]
    },
    {
     "name": "stdout",
     "output_type": "stream",
     "text": [
      "\tdone.\n\tRunning exp for deltaP=10.0MHz..."
     ]
    },
    {
     "name": "stdout",
     "output_type": "stream",
     "text": [
      "\tdone.\ndone.\nRunning exp for kappa=8MHz...\n\tRunning exp for deltaP=0.0MHz..."
     ]
    },
    {
     "name": "stdout",
     "output_type": "stream",
     "text": [
      "\tdone.\n\tRunning exp for deltaP=0.5MHz..."
     ]
    },
    {
     "name": "stdout",
     "output_type": "stream",
     "text": [
      "\tdone.\n\tRunning exp for deltaP=1.0MHz..."
     ]
    },
    {
     "name": "stdout",
     "output_type": "stream",
     "text": [
      "\tdone.\n\tRunning exp for deltaP=1.5MHz..."
     ]
    },
    {
     "name": "stdout",
     "output_type": "stream",
     "text": [
      "\tdone.\n\tRunning exp for deltaP=2.0MHz..."
     ]
    },
    {
     "name": "stdout",
     "output_type": "stream",
     "text": [
      "\tdone.\n\tRunning exp for deltaP=2.5MHz..."
     ]
    },
    {
     "name": "stdout",
     "output_type": "stream",
     "text": [
      "\tdone.\n\tRunning exp for deltaP=3.0MHz..."
     ]
    },
    {
     "name": "stdout",
     "output_type": "stream",
     "text": [
      "\tdone.\n\tRunning exp for deltaP=3.5MHz..."
     ]
    },
    {
     "name": "stdout",
     "output_type": "stream",
     "text": [
      "\tdone.\n\tRunning exp for deltaP=4.0MHz..."
     ]
    },
    {
     "name": "stdout",
     "output_type": "stream",
     "text": [
      "\tdone.\n\tRunning exp for deltaP=4.5MHz..."
     ]
    },
    {
     "name": "stdout",
     "output_type": "stream",
     "text": [
      "\tdone.\n\tRunning exp for deltaP=5.0MHz..."
     ]
    },
    {
     "name": "stdout",
     "output_type": "stream",
     "text": [
      "\tdone.\n\tRunning exp for deltaP=5.5MHz..."
     ]
    },
    {
     "name": "stdout",
     "output_type": "stream",
     "text": [
      "\tdone.\n\tRunning exp for deltaP=6.0MHz..."
     ]
    },
    {
     "name": "stdout",
     "output_type": "stream",
     "text": [
      "\tdone.\n\tRunning exp for deltaP=6.5MHz..."
     ]
    },
    {
     "name": "stdout",
     "output_type": "stream",
     "text": [
      "\tdone.\n\tRunning exp for deltaP=7.0MHz..."
     ]
    },
    {
     "name": "stdout",
     "output_type": "stream",
     "text": [
      "\tdone.\n\tRunning exp for deltaP=7.5MHz..."
     ]
    },
    {
     "name": "stdout",
     "output_type": "stream",
     "text": [
      "\tdone.\n\tRunning exp for deltaP=8.0MHz..."
     ]
    },
    {
     "name": "stdout",
     "output_type": "stream",
     "text": [
      "\tdone.\n\tRunning exp for deltaP=8.5MHz..."
     ]
    },
    {
     "name": "stdout",
     "output_type": "stream",
     "text": [
      "\tdone.\n\tRunning exp for deltaP=9.0MHz..."
     ]
    },
    {
     "name": "stdout",
     "output_type": "stream",
     "text": [
      "\tdone.\n\tRunning exp for deltaP=9.5MHz..."
     ]
    },
    {
     "name": "stdout",
     "output_type": "stream",
     "text": [
      "\tdone.\n\tRunning exp for deltaP=10.0MHz..."
     ]
    },
    {
     "name": "stdout",
     "output_type": "stream",
     "text": [
      "\tdone.\ndone.\n"
     ]
    }
   ],
   "source": [
    "exp_folder_name = os.path.join(data_folder, datetime.date.today().__str__())\n",
    "\n",
    "save_loc = os.path.join(exp_folder_name, 'test')\n",
    "\n",
    "outputs_list = []\n",
    "\n",
    "t_length=1.2\n",
    "n_steps=201\n",
    "\n",
    "kappas = [0,1,2,4,8]\n",
    "deltaPs = np.linspace(0,10,21)\n",
    "\n",
    "for kappa in kappas:\n",
    "    \n",
    "    outputs = []\n",
    "    \n",
    "    print('Running exp for kappa={0}MHz...'.format(np.round(kappa,2)))\n",
    "    \n",
    "    for deltaP in deltaPs:\n",
    "        \n",
    "        print('\\tRunning exp for deltaP={0}MHz...'.format(np.round(deltaP,2)), end=\"\")\n",
    "        \n",
    "        runner = vStirap_3lvl_runner(kappa=kappa * 2.*np.pi,gamma=gamma,deltaP=deltaP*2*np.pi,\n",
    "                                     alpha_CL=alpha_CL, phi1_CL=phi1_CL, phi2_CL=phi2_CL,\n",
    "                                     deltaL=0*-deltaP/2*2*np.pi,\n",
    "                                     deltaC=0*-deltaP/2*2*np.pi)\n",
    "        \n",
    "        runner.add_cavity_coupling(g0=g)\n",
    "        runner.add_laser_coupling(Omega=Omega)\n",
    "        \n",
    "        outputs.append((\n",
    "            runner.run(t_length=1.2, n_steps=201),\n",
    "            runner.__dict__\n",
    "        ))\n",
    "        \n",
    "        runner.cleanup()\n",
    "        \n",
    "        print('\\tdone.')\n",
    "        \n",
    "    outputs_list.append(outputs)\n",
    "    print('done.')\n",
    "        \n",
    "        # print('done.\\nSaving...',end=\" \")\n",
    "        \n",
    "        # if not os.path.exists(save_loc):\n",
    "        #     os.makedirs(save_loc)\n",
    "        # \n",
    "        # qsave(output, os.path.join(save_loc,'output'))\n",
    "        # \n",
    "        # with open(os.path.join(save_loc,'vStirap_3lvl_runner__dict__.pkl'), 'wb') as out:\n",
    "        #     pickle.dump(runner.__dict__, out, -1)\n",
    "        # print('done.')"
   ]
  },
  {
   "cell_type": "code",
   "execution_count": 4,
   "metadata": {},
   "outputs": [],
   "source": [
    "atom_states=outputs[0][1]['atom_states']\n",
    "allAtomicStates = list(atom_states)\n",
    "\n",
    "ketbras = outputs[0][1]['ketbras']\n",
    "def kb(x,y):\n",
    "    return ketbras[str([x,y])]\n",
    "\n",
    "an_fast_1  = sum(map(lambda s: kb([s,1,0],[s,1,0]) + kb([s,1,1],[s,1,1]),allAtomicStates))\n",
    "an_fast_2  = sum(map(lambda s: kb([s,0,1],[s,0,1]) + kb([s,1,1],[s,1,1]),allAtomicStates))\n",
    "an_fast_3  = sum(map(lambda s: kb([s,0,1],[s,1,0]),allAtomicStates))\n",
    "an_fast_4  = sum(map(lambda s: kb([s,1,0],[s,0,1]),allAtomicStates))\n",
    "\n",
    "'''\n",
    "Takes a series of times, t_series = [t0,t1,...], and returns\n",
    "    [ [anRotP_fast[t0],anRotP_fast[t1],...],\n",
    "      [anRotM_fast[t0],anRotM_fast[t1],...] ]\n",
    "with the fewest possible calcualtions.  It is approx. twice as fast as calling\n",
    "anRotP_fast and andRotM_fast independently for every time in t_series. \n",
    "'''\n",
    "def anRot_series_fast(t_series, alpha, phi1, phi2):\n",
    "    beta = np.sqrt(1-alpha**2)\n",
    "    delta_phi = phi2 - phi1\n",
    "    \n",
    "    an0 = (alpha**2 * an_fast_2 + beta**2 * an_fast_1)\n",
    "    \n",
    "    an1s = [alpha*beta * (\n",
    "                np.exp(-i*deltaP*t) * np.exp(-i*delta_phi) * an_fast_3 + \\\n",
    "                np.exp(i*deltaP*t) * np.exp(i*delta_phi) * an_fast_4\n",
    "                ) \n",
    "            for t in t_series]\n",
    "    \n",
    "    anRots = [[an0+an1,an0-an1] for an1 in an1s]\n",
    "    \n",
    "    return [list(i) for i in zip(*anRots)]    \n",
    "\n",
    "alpha_AC = outputs[0][1]['alpha_AC']\n",
    "phi1_AC = outputs[0][1]['phi1_AC']\n",
    "phi2_AC = outputs[0][1]['phi2_AC']\n",
    "\n",
    "t, t_step = np.linspace(0, t_length, n_steps, retstep=True)\n",
    "\n",
    "anP_t,anM_t = anRot_series_fast(t, alpha=alpha_AC, phi1=phi1_AC, phi2=phi2_AC)\n",
    "\n",
    "R_LC = outputs[0][1]['R_LC']\n",
    "\n",
    "alpha_LC = np.clip(np.abs(R_LC[0, 0]),0,1)\n",
    "phi1_LC, phi2_LC = np.angle(R_LC[0, 0]), np.angle(R_LC[1, 0])\n",
    "\n",
    "anH_t,anV_t = anRot_series_fast(t, alpha=alpha_LC, phi1=phi1_LC, phi2=phi2_LC)\n",
    "anX_t,anY_t = anRot_series_fast(t, alpha=1, phi1=0, phi2=0)\n",
    "\n",
    "sigma_spontDecayOp = outputs[0][1]['sigma_spontDecayOp']"
   ]
  },
  {
   "cell_type": "code",
   "execution_count": 5,
   "metadata": {},
   "outputs": [
    {
     "data": {
      "text/plain": [
       "<matplotlib.legend.Legend at 0x123370f28>"
      ]
     },
     "execution_count": 5,
     "metadata": {},
     "output_type": "execute_result"
    },
    {
     "data": {
      "image/png": "[encoded data removed]",
      "text/plain": [
       "<matplotlib.figure.Figure at 0x12283c978>"
      ]
     },
     "metadata": {},
     "output_type": "display_data"
    }
   ],
   "source": [
    "n_phs_list = []\n",
    "n_sponts_list = []\n",
    "\n",
    "for outputs, kappa in zip(outputs_list,kappas):\n",
    "    \n",
    "    kappa = 2*np.pi*kappa\n",
    "    \n",
    "    n_phs = []\n",
    "    n_sponts = []\n",
    "    \n",
    "    for output,_ in outputs:\n",
    "    \n",
    "        output_states = output.states\n",
    "        \n",
    "        exp_anP, exp_anM, exp_anH, exp_anV, exp_anX, exp_anY =\\\n",
    "            np.abs(np.array(\n",
    "                [expect(list(an_list), state) for an_list,state in zip(zip(anP_t,anM_t,anH_t,anV_t,anX_t,anY_t),\n",
    "                                                                       output_states)]\n",
    "            )).T\n",
    "        \n",
    "        exp_spontDecay =\\\n",
    "            np.abs( expect([sigma_spontDecayOp], output_states) )\n",
    "        \n",
    "        # Total photonic population of each mode.\n",
    "        n_ph = np.trapz(2*kappa*(exp_anP+exp_anM), dx=t_step)\n",
    "        \n",
    "        n_P = np.trapz(2*kappa*(exp_anP), dx=t_step)\n",
    "        n_M = np.trapz(2*kappa*(exp_anM), dx=t_step)\n",
    "        n_X = np.trapz(2*kappa*(exp_anX), dx=t_step)\n",
    "        n_Y = np.trapz(2*kappa*(exp_anY), dx=t_step)\n",
    "        n_H = np.trapz(2*kappa*(exp_anH), dx=t_step)\n",
    "        n_V = np.trapz(2*kappa*(exp_anV), dx=t_step)\n",
    "        \n",
    "        n_phs.append(n_ph)\n",
    "        \n",
    "        # Total spontaneous emission.\n",
    "        n_spont = np.trapz(exp_spontDecay, dx=t_step)\n",
    "        \n",
    "        n_sponts.append(n_spont)\n",
    "\n",
    "    n_phs_list.append(n_phs)\n",
    "    n_sponts_list.append(n_sponts)\n",
    "    \n",
    "    \n",
    "# Plot the results\n",
    "f, (a1,a2) = plt.subplots(2, 1, sharex=True, figsize=(8, 6))\n",
    "\n",
    "for n_phs,n_sponts,col,kappa in zip(n_phs_list,\n",
    "                                    n_sponts_list,\n",
    "                                    list(mcolors.BASE_COLORS.keys())[:len(n_phs_list)],\n",
    "                                    kappas):\n",
    "    \n",
    "    k = np.round(kappa,2)\n",
    "    \n",
    "    a1.plot(deltaPs, n_phs, '{0}-'.format(col), label=r'$\\kappa={0}$MHz: n_ph'.format(k))\n",
    "    a1.plot(deltaPs, n_sponts, '{0}--'.format(col), label='$\\kappa={0}$MHz: n_spont'.format(k))\n",
    "    \n",
    "    a2.plot(deltaPs, [n_ph/n_spont for n_ph, n_spont in zip(n_phs,n_sponts)], col, label='$\\kappa={0}$MHz'.format(k))\n",
    "    \n",
    "a1.set_ylabel('Total emission')\n",
    "a1.legend(bbox_to_anchor=(1., 1), loc=2)\n",
    "\n",
    "a2.set_ylabel('n_ph/n_spont')\n",
    "a2.legend(bbox_to_anchor=(1.6, 1),loc=1)"
   ]
  }
 ],
 "metadata": {
  "kernelspec": {
   "display_name": "Python 2",
   "language": "python",
   "name": "python2"
  },
  "language_info": {
   "codemirror_mode": {
    "name": "ipython",
    "version": 2
   },
   "file_extension": ".py",
   "mimetype": "text/x-python",
   "name": "python",
   "nbconvert_exporter": "python",
   "pygments_lexer": "ipython2",
   "version": "2.7.6"
  }
 },
 "nbformat": 4,
 "nbformat_minor": 0
}
