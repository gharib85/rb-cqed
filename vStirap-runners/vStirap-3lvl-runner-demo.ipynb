{
 "cells": [
  {
   "cell_type": "code",
   "execution_count": 1,
   "metadata": {
    "collapsed": true
   },
   "outputs": [],
   "source": [
    "%matplotlib inline\n",
    "#%matplotlib notebook\n",
    "\n",
    "import matplotlib.pyplot as plt\n",
    "import numpy as np\n",
    "from vStirap3lvlRunner import ExperimentalRunner, Atom, Cavity, LaserCoupling, CavityCoupling"
   ]
  },
  {
   "cell_type": "code",
   "execution_count": 2,
   "metadata": {},
   "outputs": [],
   "source": [
    "'''\n",
    "Set up system\n",
    "'''\n",
    "\n",
    "'''\n",
    "class Atom(RunnerDataClass):\n",
    "    atom_states: dict = field(default_factory=dict)\n",
    "    M: int = 4\n",
    "    gamma: float = 3 * 2. * np.pi\n",
    "    branching_ratios: list = field(default_factory=list)\n",
    "    R_AL: np.matrix = np.sqrt(1 / 2) * np.matrix([[1, i],\n",
    "                                                  [i, 1]])\n",
    "'''\n",
    "gamma=3 * 2. * np.pi\n",
    "branching_ratios = [0,0,1]\n",
    "\n",
    "atom=Atom(gamma=gamma,\n",
    "          branching_ratios=branching_ratios)\n",
    "\n",
    "'''\n",
    "class Cavity(RunnerDataClass):\n",
    "    N: int = 2\n",
    "    cavity_states: list = field(default_factory=list)\n",
    "    g: float = 3 * 2. * np.pi\n",
    "    kappa1: float = 3 * 2. * np.pi\n",
    "    kappa2: float = 3 * 2. * np.pi\n",
    "    deltaP: float = 0 * 2. * np.pi\n",
    "    R_CL: np.matrix = np.matrix([[1, 0],\n",
    "                                 [0, 1]])\n",
    "    R_ML: np.matrix = np.sqrt(1 / 2) * np.matrix([[1, i],\n",
    "                                                  [i, 1]])\n",
    "'''\n",
    "g0=24 * (2*np.pi)\n",
    "kappa1,kappa2 = 19 * 2.*np.pi, 0.9 * 2.*np.pi\n",
    "deltaP = 20 * 2.*np.pi\n",
    "\n",
    "cavity=Cavity(g=g0,\n",
    "              kappa1=kappa1,\n",
    "              kappa2=kappa2,\n",
    "              deltaP=deltaP)"
   ]
  },
  {
   "cell_type": "code",
   "execution_count": 3,
   "metadata": {},
   "outputs": [],
   "source": [
    "'''\n",
    "Set up couplings\n",
    "'''\n",
    "\n",
    "'''\n",
    "class LaserCoupling(RunnerDataClass):\n",
    "    omega0: float\n",
    "    g: str\n",
    "    x: str\n",
    "    deltaL: float\n",
    "    args_ham: dict\n",
    "    pulse_shape: str = 'np.piecewise(t, [t<length_pulse], [np.sin((np.pi/length_pulse)*t)**2,0])'\n",
    "'''\n",
    "deltaL=0\n",
    "length_pulse = 1\n",
    "omega0=20 * 2 * np.pi\n",
    "\n",
    "laser_couplings = []\n",
    "\n",
    "for g_state, x_state, delta, _ in Atom.get_couplings_sigma_plus(deltaL):\n",
    "    laser_couplings.append(LaserCoupling(omega0=omega0,\n",
    "                                         g=g_state,\n",
    "                                         x=x_state,\n",
    "                                         deltaL=delta,\n",
    "                                         args_ham={\"length_pulse\":length_pulse}))\n",
    "    \n",
    "'''\n",
    "class CavityCoupling(RunnerDataClass):\n",
    "    g0: float\n",
    "    g: str\n",
    "    x: str\n",
    "    deltaC: float\n",
    "    deltaM: int\n",
    "'''\n",
    "deltaC=0\n",
    "cavity_couplings = []\n",
    "\n",
    "for g_state, x_state, delta, deltaM in Atom.get_couplings_sigma_minus(deltaC):\n",
    "    cavity_couplings.append(CavityCoupling(g0=cavity.g,\n",
    "                                           g=g_state,\n",
    "                                           x=x_state,\n",
    "                                           deltaC=delta,\n",
    "                                           deltaM=deltaM))"
   ]
  },
  {
   "cell_type": "code",
   "execution_count": 7,
   "metadata": {},
   "outputs": [
    {
     "name": "stdout",
     "output_type": "stream",
     "text": [
      "Pre-compiled Hamiltonian, ExperimentalRunner_Hamiltonian_0.pyx, is suitable to run this experiment.\n"
     ]
    }
   ],
   "source": [
    "runner = ExperimentalRunner(atom=atom,\n",
    "                            cavity=cavity,\n",
    "                            laser_couplings=laser_couplings,\n",
    "                            cavity_couplings=cavity_couplings,\n",
    "                            verbose=True)"
   ]
  },
  {
   "cell_type": "code",
   "execution_count": 8,
   "metadata": {},
   "outputs": [
    {
     "name": "stdout",
     "output_type": "stream",
     "text": [
      "Running simulation with 201 timesteps..."
     ]
    },
    {
     "name": "stdout",
     "output_type": "stream",
     "text": [
      "finished in 0.271 seconds\nFound suitable _EmissionOperators obj for setup.\nFound suitable _NumberOperators obj for setup.\n"
     ]
    }
   ],
   "source": [
    "t_length=1.2\n",
    "n_steps=201\n",
    "psi0=['gM',0,0]\n",
    "\n",
    "results = runner.run(psi0=psi0)"
   ]
  },
  {
   "cell_type": "code",
   "execution_count": 9,
   "metadata": {},
   "outputs": [
    {
     "name": "stdout",
     "output_type": "stream",
     "text": [
      "Found suitable pre-computed number operator series.\nFound suitable pre-computed emission operator series.\nPhoton emission: 0.958\nPhoton emission X, Y: 0.479 0.479\n"
     ]
    },
    {
     "data": {
      "text/plain": [
       "<matplotlib.legend.Legend at 0x11c15d4a8>"
      ]
     },
     "execution_count": 9,
     "metadata": {},
     "output_type": "execute_result"
    },
    {
     "data": {
      "image/png": "[encoded data removed]",
      "text/plain": [
       "<matplotlib.figure.Figure at 0x11be0fd30>"
      ]
     },
     "metadata": {},
     "output_type": "display_data"
    }
   ],
   "source": [
    "exp_anX, exp_anY = results.get_cavity_number(cavity.R_CL)\n",
    "exp_emX, exp_emY = results.get_cavity_emission(cavity.R_CL)\n",
    "\n",
    "t = results.output.times\n",
    "tStep = np.mean(np.ediff1d(t))\n",
    "\n",
    "n_X = np.trapz((exp_emX), dx=tStep)\n",
    "n_Y = np.trapz((exp_emY), dx=tStep)\n",
    "n_ph = n_X + n_Y\n",
    "\n",
    "plt.rcParams['text.usetex'] = True\n",
    "\n",
    "print('Photon emission:', np.round(n_ph,3))\n",
    "print('Photon emission X, Y:', np.round(n_X,3), np.round(n_Y,3))\n",
    "\n",
    "# Plot the results\n",
    "f1, ((a1a, a1b)) = plt.subplots(1, 2, sharex=True, figsize=(12, 11./4))\n",
    "\n",
    "a1a.set_title('\\\\textbf{Cavity mode population}', fontsize=16)\n",
    "a1b.set_title('\\\\textbf{Cavity emission rate} ($1/\\mu s$)', fontsize=16, fontweight='bold')\n",
    "\n",
    "###\n",
    "axA,axB = a1a,a1b\n",
    "\n",
    "axA.plot(t, exp_anX, 'b', label='$X$')\n",
    "axA.plot(t, exp_anY, 'g', label='$Y$')\n",
    "axA.set_ylabel('Cavity mode population')\n",
    "axA.legend(loc=1)\n",
    "\n",
    "axB.plot(t, exp_emX, 'b', label='$X$')\n",
    "axB.plot(t, exp_emY, 'g', label='$Y$')\n",
    "axB.set_ylabel('Cavity emission rate, $1/\\mu s$')\n",
    "axB.legend(loc=1)"
   ]
  },
  {
   "cell_type": "code",
   "execution_count": null,
   "metadata": {},
   "outputs": [],
   "source": []
  }
 ],
 "metadata": {
  "kernelspec": {
   "display_name": "Python 2",
   "language": "python",
   "name": "python2"
  },
  "language_info": {
   "codemirror_mode": {
    "name": "ipython",
    "version": 2
   },
   "file_extension": ".py",
   "mimetype": "text/x-python",
   "name": "python",
   "nbconvert_exporter": "python",
   "pygments_lexer": "ipython2",
   "version": "2.7.6"
  }
 },
 "nbformat": 4,
 "nbformat_minor": 0
}
