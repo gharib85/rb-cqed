{
 "cells": [
  {
   "cell_type": "code",
   "execution_count": 1,
   "metadata": {
    "collapsed": true
   },
   "outputs": [],
   "source": [
    "%matplotlib inline\n",
    "#%matplotlib notebook\n",
    "\n",
    "import matplotlib.pyplot as plt\n",
    "from matplotlib import gridspec\n",
    "import numpy as np\n",
    "import scipy.constants as const\n",
    "import time\n",
    "import csv\n",
    "\n",
    "from itertools import chain\n",
    "from functools import reduce\n",
    "\n",
    "from qutip import *\n",
    "\n",
    "np.set_printoptions(threshold=np.inf)"
   ]
  },
  {
   "cell_type": "code",
   "execution_count": 2,
   "metadata": {
    "collapsed": false
   },
   "outputs": [
    {
     "name": "stdout",
     "output_type": "stream",
     "text": [
      "Atom-cavity coupling for F=1,mF=+/-1 <--> F=1,mF=1 in zero magnetic field is: g=3.342MHz\n"
     ]
    }
   ],
   "source": [
    "'''\n",
    "Import coupling factors and energy level splittings from file.\n",
    "\n",
    "The notation used is to denote the ground/excited 'F' levels with g'F'/x'F'\n",
    "The magnetic 'mF' sublevels -3,-2,-1,0,1,2,3 are denoted MMM,MM,M,[nothing],P,PP,PPP.\n",
    "Examples: the F'=2,mF'=3 sublevel is denoted x2PPP,\n",
    "          the F=1,mF'=-1 sublevel is denoted g1M.\n",
    "          \n",
    "Note: By default the parameter file has the energy splitting given wrt the F'=2 level. \n",
    "'''\n",
    "imports = []\n",
    "with open(\"./params/exp_params_5MHz.csv\") as file:\n",
    "    reader = csv.reader(file)\n",
    "    for row in reader:\n",
    "        imports.append(row)\n",
    "        \n",
    "imports = dict(map(lambda x: (str(x[0]), float(x[1])), imports))\n",
    "\n",
    "deltaZ,deltaEx3,deltaEx1,deltaEx0,\\\n",
    "deltaZx3MMM,\\\n",
    "deltaZx3MM,deltaZx2MM,\\\n",
    "deltaZx3M,deltaZx2M,deltaZx1M,\\\n",
    "deltaZx3,deltaZx2,deltaZx1,deltaZx0,\\\n",
    "deltaZx3P,deltaZx2P,deltaZx1P,\\\n",
    "deltaZx3PP,deltaZx2PP,\\\n",
    "deltaZx3PPP = \\\n",
    "    [imports[delta]*2*np.pi for delta in \n",
    "        [\"deltaZ\", \"deltaEx3\",\"deltaEx1\",\"deltaEx0\",\n",
    "         \"deltaZx3MMM\",\n",
    "         \"deltaZx3MM\",\"deltaZx2MM\",\n",
    "         \"deltaZx3M\",\"deltaZx2M\", \"deltaZx1M\",\n",
    "         \"deltaZx3\",\"deltaZx2\", \"deltaZx1\", \"deltaZx0\",\n",
    "         \"deltaZx3P\",\"deltaZx2P\", \"deltaZx1P\",\n",
    "         \"deltaZx3PP\",\"deltaZx2PP\",\n",
    "         \"deltaZx3PPP\"]\n",
    "     ]\n",
    "\n",
    "CGg1Mx3MM, CGg1Mx2MM, \\\n",
    "CGg1x3M, CGg1x2M, CGg1x1M, CGg1Mx3M, CGg1Mx2M, CGg1Mx1M, \\\n",
    "CGg1Px3, CGg1Px2, CGg1Px1, CGg1Px0, CGg1x3, CGg1x2, CGg1x1, CGg1x0, CGg1Mx3, CGg1Mx2, CGg1Mx1, CGg1Mx0, \\\n",
    "CGg1Px3P, CGg1Px2P, CGg1Px1P, CGg1x3P, CGg1x2P, CGg1x1P, \\\n",
    "CGg1Px3PP,CGg1Px2PP = [imports[CG] for CG in [\n",
    "    \"CGg1Mx3MM\", \"CGg1Mx2MM\",\n",
    "    \"CGg1x3M\", \"CGg1x2M\", \"CGg1x1M\", \"CGg1Mx3M\", \"CGg1Mx2M\", \"CGg1Mx1M\",\n",
    "    \"CGg1Px3\", \"CGg1Px2\", \"CGg1Px1\", \"CGg1Px0\", \"CGg1x3\", \"CGg1x2\", \"CGg1x1\", \"CGg1x0\", \"CGg1Mx3\", \"CGg1Mx2\", \"CGg1Mx1\", \"CGg1Mx0\",\n",
    "    \"CGg1Px3P\", \"CGg1Px2P\", \"CGg1Px1P\", \"CGg1x3P\", \"CGg1x2P\", \"CGg1x1P\", \n",
    "    \"CGg1Px3PP\",\"CGg1Px2PP\"]]\n",
    "\n",
    "CGg2MMx3MMM, \\\n",
    "CGg2Mx3MM, CGg2Mx2MM, CGg2MMx3MM, CGg2MMx2MM, \\\n",
    "CGg2x3M, CGg2x2M, CGg2x1M, CGg2Mx3M, CGg2Mx2M, CGg2Mx1M, CGg2MMx3M, CGg2MMx2M, CGg2MMx1M, \\\n",
    "CGg2Px3, CGg2Px2, CGg2Px1, CGg2Px0, CGg2x3,  CGg2x2, CGg2x1, CGg2x0, CGg2Mx3, CGg2Mx2, CGg2Mx1, CGg2Mx0, \\\n",
    "CGg2PPx3P, CGg2PPx2P, CGg2PPx1P, CGg2Px3P, CGg2Px2P,  CGg2Px1P, CGg2x3P, CGg2x2P, CGg2x1P, \\\n",
    "CGg2PPx3PP, CGg2PPx2PP, CGg2Px3PP, CGg2Px2PP, \\\n",
    "CGg2PPx3PPP = [imports[CG] for CG in [\n",
    "    \"CGg2MMx3MMM\",\n",
    "    \"CGg2Mx3MM\",\"CGg2Mx2MM\", \"CGg2MMx3MM\", \"CGg2MMx2MM\",\n",
    "    \"CGg2x3M\", \"CGg2x2M\", \"CGg2x1M\", \"CGg2Mx3M\", \"CGg2Mx2M\", \"CGg2Mx1M\", \"CGg2MMx3M\", \"CGg2MMx2M\", \"CGg2MMx1M\",\n",
    "    \"CGg2Px3\", \"CGg2Px2\", \"CGg2Px1\", \"CGg2Px0\", \"CGg2x3\", \"CGg2x2\", \"CGg2x1\", \"CGg2x0\", \"CGg2Mx3\", \"CGg2Mx2\", \"CGg2Mx1\", \"CGg2Mx0\",\n",
    "    \"CGg2PPx3P\", \"CGg2PPx2P\", \"CGg2PPx1P\", \"CGg2Px3P\", \"CGg2Px2P\", \"CGg2Px1P\", \"CGg2x3P\", \"CGg2x2P\", \"CGg2x1P\",\n",
    "    \"CGg2PPx3PP\", \"CGg2PPx2PP\", \"CGg2Px3PP\", \"CGg2Px2PP\",\n",
    "    \"CGg2PPx3PPP\"]]\n",
    "\n",
    "'''\n",
    "Physical system parameters\n",
    "'''\n",
    "# List the excited levels to include in the simulation.\n",
    "xlvls = [\n",
    "    # 'x0',\n",
    "    'x1M','x1','x1P',\n",
    "    'x2MM','x2M','x2','x2P','x2PP',\n",
    "    #'x3MMM', 'x3MM','x3M','x3','x3P','x3PP', 'x3PPP'\n",
    "] \n",
    "\n",
    "# List the coupling rates of the system.\n",
    "#   kappa:  Decay of the electric field out of the cavity.\n",
    "#   gamma:  Decay of the atomic amplitude.\n",
    "kappa = 3.543 * 2.*np.pi /2 \n",
    "gamma = 3 * 2.*np.pi\n",
    "\n",
    "# State the detuning of the vSTIRAP and repumping Raman resonances w.r.t.\n",
    "# the energy zero defined above (with the E0shift parameter).\n",
    "deltaOffsetVStirap = -10 * 2.*np.pi\n",
    "deltaOffsetRepump =  -5 * 2.*np.pi\n",
    "\n",
    "# The laser and cavity detuning for photon production\n",
    "deltaL2_Pi_Stirap = deltaOffsetVStirap + 2*deltaZ + deltaZx2MM # For |F,mF>=|2,-2> <--> |F',mF'>=|2,-2>\n",
    "deltaC = deltaOffsetVStirap -  deltaZ + deltaZx2MM # For |F,mF>=|1,-1> <--> |F',mF'>=|2,-2>\n",
    "\n",
    "# The laser detuning for STIRAP repumping with: |F,mF>-|F',mF'>-|F,mF> <--> |1,-1>-|2,-2>-|2,-2>\n",
    "deltaL1_Sigma = deltaOffsetRepump - deltaZ + deltaZx2MM # For |F,mF>=|1,-1> <--> |F',mF'>=|2,-2>\n",
    "deltaL2_Pi = deltaOffsetRepump + 2*deltaZ + deltaZx2MM # For |F,mF>=|2,-2> <--> |F',mF'>=|2,-2>\n",
    "\n",
    "# The laser detuning for STIRAP repumping with: |F,mF>-|F',mF'>-|F,mF> <--> |1,-1>-|2,-1>-|2,-2>\n",
    "deltaL1_Pi = deltaOffsetRepump -  deltaZ + deltaZx2M # For |F,mF>=|1,-1> <--> |F',mF'>=|2,-1>\n",
    "deltaL2_Sigma = deltaOffsetRepump + 2*deltaZ + deltaZx2M # For |F,mF>=|2,-1> <--> |F',mF'>=|2,-2>\n",
    "\n",
    "\n",
    "'''\n",
    "Cavity coupling.\n",
    "\n",
    "Note g, the atom-cavity coupling rate, is given by\n",
    "            d * A * coupling_factor\n",
    "where,\n",
    "    d: dipole moment of transition (D2 line for us).\n",
    "    A: Angular dependence of the considered transition.\n",
    "        e.g. A=np.sqrt(5/24) for F=1,mF=+/-1 <--> F=1,mF=0 in zero magnetic field.\n",
    "'''\n",
    "d = 3.584*10**(-29) # D2-line dipole moment\n",
    "\n",
    "lambda_cav = 780.233 * 10**-9 # Resonance frequency of cavity\n",
    "omega_cav = 2*np.pi * const.c / lambda_cav # Angular resonance frequency of cavity\n",
    "L_cav = 339 * 10**-6 # Cavity length\n",
    "R = 0.05 # Radius of curvature of cavity mirrors.\n",
    "waist_cav = np.sqrt( (lambda_cav/np.pi)*np.sqrt( L_cav/2*( R - (L_cav/2) ))) # Cavity waist\n",
    "V_mode = (np.pi * L_cav * waist_cav**2)/2 # Cavity mode volume.\n",
    "\n",
    "coupling_factor = np.sqrt(omega_cav / (2*const.hbar*const.epsilon_0*V_mode))\n",
    "coupling_factor /= 10**6 #Convert here so that the final coupling comes out in MHz.\n",
    "\n",
    "'''\n",
    "The variation in coupling of atoms in free-flight through the cavity mode can be\n",
    "corrected for with an reduced averaged coupling.\n",
    "Do so here if wanted.\n",
    "'''\n",
    "coupling_factor *= 0.7\n",
    "\n",
    "print('Atom-cavity coupling for F=1,mF=+/-1 <--> F=1,mF=1 '\n",
    "      'in zero magnetic field is: g={0}MHz'.format(\n",
    "        np.round(d * np.sqrt(5/24) * coupling_factor / (2*np.pi),3)))   "
   ]
  },
  {
   "cell_type": "code",
   "execution_count": 3,
   "metadata": {},
   "outputs": [
    {
     "name": "stdout",
     "output_type": "stream",
     "text": [
      "Atom-cavity coupling for F=1,mF=+/-1 <--> F=1,mF=0 in zero magnetic field is: g=3.342MHz\n"
     ]
    }
   ],
   "source": [
    "'''\n",
    "If you want to overide the atom-cavity coupling calculated from the cavity parameters (above)\n",
    "do so here.\n",
    "\n",
    "e.g. to set g=2MHz on F=1,mF=+/-1 <--> F=1,mF=1 tranistion in zero magnetic field use\n",
    "    coupling_factor = 10*2*np.pi / (d*CGg1Mx1)\n",
    "'''\n",
    "# coupling_factor = 10*2*np.pi / (d*CGg1Mx1)\n",
    "\n",
    "print('Atom-cavity coupling for F=1,mF=+/-1 <--> F=1,mF=0 '\n",
    "      'in zero magnetic field is: g={0}MHz'.format(\n",
    "        np.round(d * np.sqrt(5/24) * coupling_factor / (2*np.pi),3)))"
   ]
  },
  {
   "cell_type": "code",
   "execution_count": 4,
   "metadata": {
    "collapsed": true
   },
   "outputs": [],
   "source": [
    "'''\n",
    "Here we perform the set up required before we can define and simulate the\n",
    "Hamiltonian of the system.  This entails:\n",
    "    1. Defining the size of our Hilbert space and how the states with it are\n",
    "      labelled.\n",
    "    2. Creating shorthand functions for the 'ket'/'bras' of the state vectors.\n",
    "    3. Creating the operators who's expectation values we will wish to track\n",
    "      through the simulations.  These are the number operators and for the\n",
    "      population of each atomic state and each cavity mode in various\n",
    "      polarisation bases (the cavity basis, {|H>,|V>} modes, {|+>,|->} modes\n",
    "      etc.).\n",
    "    4. Creating the collapse operators to account for spontaneous decay in our\n",
    "      system.\n",
    "'''\n",
    "\n",
    "# Set where to truncate Fock states 0,1,2..,N-1 for cavity modes.\n",
    "N = 2\n",
    "cavStates = list(range(N))\n",
    "\n",
    "# A dictionary of the atomic states.\n",
    "atomStates = {\n",
    "    \"g1M\":0, \"g1\":1, \"g1P\":2, # F=1,mF=-1,0,+1 respectively\n",
    "    \"g2MM\":3, \"g2M\":4, \"g2\":5, \"g2P\":6, \"g2PP\":7 # F=2,mF=-2,..,+2 respectively\n",
    "}\n",
    "# Add the excited-states already configured.\n",
    "for k,v in zip(xlvls, range(len(atomStates), len(atomStates)+len(xlvls))):\n",
    "    atomStates[k]=v\n",
    "M = len(atomStates)    \n",
    "\n",
    "'''\n",
    "State definitions - pre-calculated for speed.\n",
    "\n",
    "We create string-indexed dictionaries for the kets (|k>), bras (<b|), and\n",
    "ketbras (|k><b|).\n",
    "'''\n",
    "def ket(atom, cav):\n",
    "    return tensor(basis(M, atomStates[atom]), basis(N, cav))\n",
    "\n",
    "def bra(atom, cav):\n",
    "    return ket(atom, cav).dag()\n",
    "\n",
    "kets,bras = {},{}\n",
    "ketbras = {}\n",
    "import itertools\n",
    "s=[ [\"g1M\", \"g1\", \"g1P\", \"g2MM\", \"g2M\", \"g2\", \"g2P\", \"g2PP\"] + xlvls, [0, 1] ]\n",
    "states = list(map(list, list(itertools.product(*s))))\n",
    "for state in states:\n",
    "    kets[str(state)] = ket(*state)\n",
    "    bras[str(state)] = bra(*state)\n",
    "    \n",
    "for x in list(map(list, list(itertools.product(*[states,states])))):\n",
    "    ketbras[str(x)] = ket(*x[0])*bra(*x[1])\n",
    "\n",
    "\n",
    "'''\n",
    "Shorthand definitions for coding Hamiltonians.\n",
    "'''\n",
    "i=np.complex(0,1)\n",
    "\n",
    "def ePit(x,t):\n",
    "    return np.exp(i*t*x)\n",
    "def ePmit(x,t):\n",
    "    return np.exp(-i*t*x)\n",
    "def kb(x,y):\n",
    "    return ketbras[str([x,y])]\n",
    "\n",
    "\n",
    "'''\n",
    "Create the operators that give the population of the atomic states and\n",
    "of the cavity mode.\n",
    "'''\n",
    "aDict = {}\n",
    "# Create the atomic operators\n",
    "def createStateOp(s):\n",
    "    try:\n",
    "        aOp = kb([s,0],[s,0]) + kb([s,1],[s,1])\n",
    "        aDict[s]=aOp\n",
    "    except KeyError:\n",
    "        aOp =  None\n",
    "    return aOp\n",
    "\n",
    "[\n",
    "    ag1M, ag1, ag1P,\n",
    "    ag2MM, ag2M, ag2, ag2P, ag2PP,\n",
    "    ax0,\n",
    "    ax1M, ax1, ax1P,\n",
    "    ax2MM, ax2M, ax2, ax2P, ax2PP,\n",
    "    ax3MMM, ax3MM, ax3M, ax3, ax3P, ax3PP, ax3PPP\n",
    "] = [createStateOp(s) for s in [\"g1M\", \"g1\", \"g1P\",\n",
    "                                                \"g2MM\", \"g2M\", \"g2\", \"g2P\", \"g2PP\",\n",
    "                                                \"x0\",\n",
    "                                                \"x1M\", \"x1\", \"x1P\",\n",
    "                                                \"x2MM\", \"x2M\", \"x2\", \"x2P\", \"x2PP\",\n",
    "                                                \"x3MMM\", \"x3MM\", \"x3M\", \"x3\", \"x3P\", \"x3PP\", \"x3PPP\"]]\n",
    "\n",
    "# Create the photon operators\n",
    "a = tensor(qeye(M), destroy(N))\n",
    "an = a.dag()*a\n",
    "\n",
    "'''\n",
    "The c_op_list is the collapse operators of the system. Namely\n",
    "  - the rate of photon decay from the cavity\n",
    "  - spontaneous decay of the excited atomic states\n",
    "'''\n",
    "# Define collapse operators\n",
    "c_op_list = []\n",
    "\n",
    "# Cavity decay rate\n",
    "c_op_list.append(np.sqrt(2*kappa) * a)\n",
    "\n",
    "spontEmmChannels = [\n",
    "                    # |F',mF'> --> |F=1,mF=-1>\n",
    "                    ('g1M','x0',CGg1Mx0),\n",
    "                    ('g1M','x1M',CGg1Mx1M),('g1M','x1',CGg1Mx1),\n",
    "                    ('g1M','x2MM',CGg1Mx2MM),('g1M','x2M',CGg1Mx2M),('g1M','x2',CGg1Mx2),\n",
    "                    ('g1M','x3MM',CGg1Mx3MM),('g1M','x3M',CGg1Mx3M),('g1M','x3',CGg1Mx3),\n",
    "    \n",
    "                    # |F',mF'> --> |F=1,mF=0>\n",
    "                    ('g1','x0',CGg1x0),\n",
    "                    ('g1','x1M',CGg1x1M),('g1','x1',CGg1x1),('g1','x1P',CGg1x1P),\n",
    "                    ('g1','x2M',CGg1x2M),('g1','x2',CGg1x2),('g1','x2P',CGg1x2P),\n",
    "                    ('g1','x3M',CGg1x3M),('g1','x3',CGg1x3),('g1','x3P',CGg1x3P),\n",
    "    \n",
    "                    # |F',mF'> --> |F=1,mF=+1>\n",
    "                    ('g1P','x0',CGg1Px0),\n",
    "                    ('g1P','x1',CGg1Px1),('g1P','x1P',CGg1Px1P),\n",
    "                    ('g1P','x2',CGg1Px2),('g1P','x2P',CGg1Px2P),('g1P','x2PP',CGg1Px2PP),\n",
    "                    ('g1P','x3',CGg1Px3),('g1P','x3P',CGg1Px3P),('g1P','x3PP',CGg1Px3PP),\n",
    "    \n",
    "\n",
    "                    # |F',mF'> --> |F=2,mF=-2>\n",
    "                    ('g2MM','x1M',CGg2MMx1M),\n",
    "                    ('g2MM','x2MM',CGg2MMx2MM),('g2MM','x2M',CGg2MMx2M),\n",
    "                    ('g2MM','x3MMM',CGg2MMx3MMM),('g2MM','x3MM',CGg2MMx3MM),('g2MM','x3M',CGg2MMx3M),\n",
    "    \n",
    "                    # |F',mF'> --> |F=2,mF=-1>\n",
    "                    ('g2M','x0',CGg2Mx0),\n",
    "                    ('g2M','x1M',CGg2Mx1M),('g2M','x1',CGg2Mx1),\n",
    "                    ('g2M','x2MM',CGg2Mx2MM),('g2M','x2M',CGg2Mx2M),('g2M','x2',CGg2Mx2),\n",
    "                    ('g2M','x3MM',CGg2Mx3MM),('g2M','x3M',CGg2Mx3M),('g2M','x3',CGg2Mx3),\n",
    "    \n",
    "                    # |F',mF'> --> |F=2,mF=0>\n",
    "                    ('g2','x0',CGg2x0),\n",
    "                    ('g2','x1M',CGg2x1M),('g2','x1',CGg2x1),('g2','x1P',CGg2x1P),\n",
    "                    ('g2','x2M',CGg2x2M),('g2','x2',CGg2x2),('g2','x2P',CGg2x2P),\n",
    "                    ('g2','x3M',CGg2x3M),('g2','x3',CGg2x3),('g2','x3P',CGg2x3P),\n",
    "    \n",
    "                    # |F',mF'> --> |F=2,mF=+1>\n",
    "                    ('g2P','x0',CGg2Px0),\n",
    "                    ('g2P','x1',CGg2Px1),('g2P','x1P',CGg2Px1P),\n",
    "                    ('g2P','x2',CGg2Px2),('g2P','x2P',CGg2Px2P),('g2P','x2PP',CGg2Px2PP),\n",
    "                    ('g2P','x3',CGg2Px3),('g2P','x3P',CGg2Px3P),('g2P','x3PP',CGg2Px3PP),\n",
    "    \n",
    "                    # |F',mF'> --> |F=2,mF=+2>\n",
    "                    ('g2PP','x1P',CGg2PPx1P),\n",
    "                    ('g2PP','x2P',CGg2PPx2P),('g2PP','x2PP',CGg2PPx2PP),\n",
    "                    ('g2PP','x3P',CGg2PPx3P),('g2PP','x3PP',CGg2PPx3PP),('g2PP','x3PPP',CGg2PPx3PPP)\n",
    "                    ]\n",
    "\n",
    "spontDecayOps = []\n",
    "# np.sqrt(2) in font of trans strength is because sum of strengths \n",
    "# is 1/2 for D2 but splitting ratios need to sum to 1\n",
    "for x in spontEmmChannels:\n",
    "    try:\n",
    "       spontDecayOps.append(np.sqrt(2) * x[2] * np.sqrt(2*gamma) * \n",
    "                     tensor(\n",
    "                         basis(M, atomStates[x[0]]) * basis(M, atomStates[x[1]]).dag(), qeye(N)))\n",
    "    except KeyError:\n",
    "        pass\n",
    "\n",
    "c_op_list += spontDecayOps\n",
    "\n",
    "sigma_spontDecayOp = sum([x.dag()*x for x in spontDecayOps])"
   ]
  },
  {
   "cell_type": "code",
   "execution_count": 5,
   "metadata": {},
   "outputs": [
    {
     "name": "stdout",
     "output_type": "stream",
     "text": [
      "Peak Rabi frequency of pump pulse for F=1,mF=+/-1 <--> F=1,mF=0 in zero magnetic field is: Omega=11.411MHz\nPeak Rabi frequency of repumping pulses, corrected for coupling strength, is 22.282MHz on both tranistions\n"
     ]
    },
    {
     "data": {
      "image/png": "[encoded data removed]",
      "text/plain": [
       "<matplotlib.figure.Figure at 0x115056f60>"
      ]
     },
     "metadata": {},
     "output_type": "display_data"
    },
    {
     "data": {
      "image/png": "[encoded data removed]",
      "text/plain": [
       "<matplotlib.figure.Figure at 0x11534d9b0>"
      ]
     },
     "metadata": {},
     "output_type": "display_data"
    }
   ],
   "source": [
    "'''\n",
    "Define the pump pulse parameters.  The pump pulse by default has a\n",
    "sin**2 amplitude profile.\n",
    "\n",
    "Parameters:\n",
    "    lengthStirap - length of the pump pulse\n",
    "    wStirap - pi / lengthStirap\n",
    "    lengthSim - length of the simulation (as the photon can continue to decay\n",
    "                out of the cavity after the pump pulse is over, we typically\n",
    "                use lengthSim > lengthStirap).\n",
    "    OmegaStirap - the peak Rabi frequency of the pump pulse.  Note that, again,\n",
    "                  this does not include the angualr dependence of the\n",
    "                  transition so the Rabi frequency on a given transition is\n",
    "                        A * OmegaStirap\n",
    "                where,\n",
    "                    A: Angular dependence of the considered transition.\n",
    "                e.g. A=np.sqrt(5/24) for F=1,mF=+/-1 <--> F=1,mF=1 in zero\n",
    "                magnetic field.\n",
    "'''\n",
    "lengthStirap=0.46\n",
    "OmegaStirap = 25*2*np.pi\n",
    "\n",
    "print('Peak Rabi frequency of pump pulse for F=1,mF=+/-1 <--> F=1,mF=0 '\n",
    "      'in zero magnetic field is: Omega={0}MHz'.format(\n",
    "        np.round(np.sqrt(5/24) * OmegaStirap/ (2*np.pi),3))) \n",
    "\n",
    "wStirap = np.pi / lengthStirap\n",
    "\n",
    "t,tStep = np.linspace(0, lengthStirap, 251, retstep=True)\n",
    "\n",
    "Omega = lambda t, A=OmegaStirap, w=wStirap: A*(np.sin(w*t)**2)\n",
    "\n",
    "args_omega_stirap = dict([('wStirap',wStirap)])\n",
    "\n",
    "f, a1 = plt.subplots(figsize=(3, 2))\n",
    "a1.plot(t, [Omega(x)/(2*np.pi) for x in t], 'b')\n",
    "f.patch.set_facecolor('white')\n",
    "\n",
    "\n",
    "'''\n",
    "Define the repumping pulse parameters.  This repumping is performed using two\n",
    "lasers to drive a Raman transition between the ground |1,-1> <--> |2,-2> levels.\n",
    "\n",
    "There are two routes for this, which we label with the polarisation of the\n",
    "sucessive pulses that drive them:\n",
    "    |F,mF>-|F',mF'>-|F,mF> <--> |1,-1>-|2,-2>-|2,-2>: 'SigmaPi' repumping,\n",
    "    |F,mF>-|F',mF'>-|F,mF> <--> |1,-1>-|2,-2>-|2,-2>: 'PiSigma' repumping.\n",
    "    \n",
    "The code below automatically sets the peak Rabi frequency of each pulse to be \n",
    "the same (I believe this gives maximal population transfer efficiency), but\n",
    "note that with the different coupling strengths of each transition this\n",
    "requires different driving powers.\n",
    "\n",
    "The pulses by default has a sin**2 amplitude profile.\n",
    "\n",
    "Parameters:\n",
    "    length1/length2 - length of the first/second repumping pulse.\n",
    "    w1/w2 - pi / length1 and pi/length2\n",
    "    lengthDelay - The offset between the peak of each pulse.\n",
    "    lengthRepump - The overall time taken for driving the repumping transition.\n",
    "    A - The peak Rabi frequency of the pulses, corrected for the coupling strength.\n",
    "    A1/A2 - The peak Rabi frequency of the pulses, uncorrected for the coupling strength. \n",
    "    t0_1/t0_2 - The start time of each pulse.\n",
    "'''\n",
    "\n",
    "######For SigmaPi repumping#####\n",
    "\n",
    "[length2,length1,lengthDelay]=[0.2,0.2,0.08]\n",
    "lengthRepump = lengthDelay + (length1 + length2)/2\n",
    "\n",
    "A = 45\n",
    "\n",
    "[A2,A1] = [abs(x)*2*np.pi for x in [A/CGg2MMx2MM,A/CGg1Mx2MM]]\n",
    "\n",
    "##########\n",
    "\n",
    "######For PiSigma repumping######\n",
    "\n",
    "[length2,length1,lengthDelay]=[0.15,0.15,0.045]\n",
    "lengthRepump = lengthDelay + (length1 + length2)/2\n",
    "A = 140\n",
    "[A2,A1] = [abs(x)*2*np.pi for x in [A/CGg2MMx2M,A/CGg1Mx2M]]\n",
    "\n",
    "##########\n",
    "\n",
    "print('Peak Rabi frequency of repumping pulses, corrected for coupling '\n",
    "      'strength, is {0}MHz on both tranistions'.format(\n",
    "        np.round(A / (2*np.pi),3))) \n",
    "\n",
    "[w2,w1] = [1*np.pi / l for l in [length2,length1]]\n",
    "t,tStep = np.linspace(0, lengthRepump, 251, retstep=True)\n",
    "\n",
    "t0_2 = lengthRepump/2-lengthDelay/2-length2/2\n",
    "t0_1 = lengthRepump/2+lengthDelay/2-length1/2\n",
    "\n",
    "Omega2 = lambda t: np.piecewise(t, [t<t0_2+length2], [A2*np.sin(w2*(t-t0_2))**2,0])\n",
    "Omega1 = lambda t: np.piecewise(t, [t>t0_1], [A1*np.sin(w1*(t-t0_1))**2,0])\n",
    "\n",
    "args_omega_repump = dict([('w2',w2),('w1',w1),\n",
    "                   ('lengthRepump', lengthRepump), ('t0_2', t0_2), ('t0_1', t0_1),\n",
    "                   ('length1',length2),('length2',length2),('lengthDelay',lengthDelay)])\n",
    "\n",
    "f, a1 = plt.subplots(figsize=(3, 2))\n",
    "a1.plot(t, [Omega2(x)/(2*np.pi) for x in t], 'b',label='$\\Omega_2(t)$')\n",
    "a1.plot(t, [Omega1(x)/(2*np.pi) for x in t], 'r',label='$\\Omega_1(t)$')\n",
    "a1.legend(loc=2)\n",
    "f.patch.set_facecolor('white')"
   ]
  },
  {
   "cell_type": "code",
   "execution_count": 6,
   "metadata": {
    "collapsed": true
   },
   "outputs": [],
   "source": [
    "'''\n",
    "Create couplings for the Hamiltonian\n",
    "'''\n",
    "\n",
    "'''\n",
    "Create a laser coupling.\n",
    "\n",
    "Parameters:\n",
    "    Omega - The peak rabi frequency of the pump pulse.\n",
    "    gLev - The ground atomic atomic level.\n",
    "    xLev - The excited atomic level.\n",
    "    omegaL - The detuning of the pump laser.\n",
    "    args_list - A dictionary of arguments for the qutip simulation.\n",
    "    pulseShape - The shape of the pump pulse.\n",
    "    \n",
    "Returns:\n",
    "    (List of cython-ready Hamiltonian terms,\n",
    "     args_list with relevant parameters added)\n",
    "'''\n",
    "def laserCoupling(Omega,gLev,xLev,omegaL,args_list,pulseShape='np.sin(w*t)**2'):\n",
    "     omegaL_lab = 'omegaL_{0}{1}'.format(gLev,xLev)\n",
    "     args_list[omegaL_lab] = omegaL\n",
    "     return (\n",
    "         [\n",
    "         [ -(Omega/2)*(\n",
    "                ( kb([gLev,0],[xLev,0]) + kb([gLev,1],[xLev,1]) ) +\n",
    "                ( kb([xLev,0],[gLev,0]) + kb([xLev,1],[gLev,1]) )\n",
    "        ),'{0} * np.cos({1}*t)'.format(pulseShape,omegaL_lab)],\n",
    "        [ -i*(Omega/2)*(\n",
    "                ( kb([gLev,0],[xLev,0]) + kb([gLev,1],[xLev,1]) ) -\n",
    "                ( kb([xLev,0],[gLev,0]) + kb([xLev,1],[gLev,1]) )\n",
    "        ),'{0} * np.sin({1}*t)'.format(pulseShape,omegaL_lab)]\n",
    "         ],\n",
    "     args_list\n",
    "     )\n",
    "    \n",
    "'''\n",
    "Create a cavity coupling.\n",
    "\n",
    "Parameters:\n",
    "    g - The atom-cavity coupling rate.\n",
    "    gLev - The ground atomic atomic level.\n",
    "    xLev - The excited atomic level.\n",
    "    omegaC - The detuning of the cavity resonance.\n",
    "    args_list - A dictionary of arguments for the qutip simulation.\n",
    "    \n",
    "Returns:\n",
    "    (List of cython-ready Hamiltonian terms,\n",
    "     args_list with relevant parameters added)\n",
    "'''\n",
    "def cavityCoupling(g,gLev,xLev,omegaC,args_list):\n",
    "    omegaC_lab = 'omegaC_{0}{1}'.format(gLev,xLev)\n",
    "    args_list[omegaC_lab] = omegaC\n",
    "    return (\n",
    "        [\n",
    "            [ -g*(\n",
    "                 kb([gLev,1],[xLev,0])+ kb([xLev,0],[gLev,1]) \n",
    "        ),'np.cos({0}*t)'.format(omegaC_lab)],\n",
    "        [ -i*g*(\n",
    "                 kb([gLev,1],[xLev,0]) - kb([xLev,0],[gLev,1]) \n",
    "        ),'np.sin({0}*t)'.format(omegaC_lab)]\n",
    "            ],\n",
    "        args_list\n",
    "    )\n",
    "\n",
    "'''\n",
    "The laser couplings for STIRAP 'SigmaPi' repumping with\n",
    "    |F,mF>-|F',mF'>-|F,mF> <--> |1,-1>-|2,-2>-|2,-2>\n",
    "'''\n",
    "def getCouplingsF1_Sigma(delta):\n",
    "    return [ \n",
    "    # For |F,mF>=|1,mF> <--> |F',mF'>=|3,mF+/-1>\n",
    "    (CGg1Mx3MM, 'g1M', 'x3MM', delta + deltaZ - deltaZx3MM - deltaEx3),\n",
    "    (CGg1Mx3,   'g1M', 'x3',   delta + deltaZ - deltaZx3 - deltaEx3),\n",
    "    (CGg1x3M,   'g1',  'x3M',  delta - deltaZx3M - deltaEx3),\n",
    "    (CGg1x3P,   'g1',  'x3P',  delta - deltaZx3P - deltaEx3),\n",
    "    (CGg1Px3,   'g1P', 'x3',   delta - deltaZ - deltaZx3 - deltaEx3),\n",
    "    (CGg1Px3PP, 'g1P', 'x3PP', delta - deltaZ - deltaZx3PP - deltaEx3),\n",
    "    # For |F,mF>=|1,mF> <--> |F',mF'>=|2,mF+/-1>\n",
    "    (CGg1Mx2MM, 'g1M', 'x2MM', delta + deltaZ - deltaZx2MM),\n",
    "    (CGg1Mx2,   'g1M', 'x2',   delta + deltaZ - deltaZx2),\n",
    "    (CGg1x2M,   'g1',  'x2M',  delta - deltaZx2M),\n",
    "    (CGg1x2P,   'g1',  'x2P',  delta - deltaZx2P),\n",
    "    (CGg1Px2,   'g1P', 'x2',   delta - deltaZ - deltaZx2),\n",
    "    (CGg1Px2PP, 'g1P', 'x2PP', delta - deltaZ - deltaZx2PP),\n",
    "    # For |F,mF>=|1,mF> <--> |F',mF'>=|1,mF+/-1>\n",
    "    (CGg1Mx1,   'g1M', 'x1',   delta + deltaZ - deltaZx1 - deltaEx1),\n",
    "    (CGg1x1M,   'g1',  'x1M',  delta - deltaZx1M - deltaEx1),\n",
    "    (CGg1x1P,   'g1',  'x1P',  delta - deltaZx1P - deltaEx1),\n",
    "    (CGg1Px1,   'g1P', 'x1',   delta - deltaZ - deltaZx1 - deltaEx1),\n",
    "    # For |F,mF>=|1,mF> <--> |F',mF'>=|0,mF+/-1>\n",
    "    (CGg1Mx0,   'g1M', 'x0',   delta + deltaZ - deltaZx0 - deltaEx0),\n",
    "    (CGg1Px0,   'g1P', 'x0',   delta - deltaZ - deltaZx0 - deltaEx0),\n",
    "    ]\n",
    "\n",
    "def getCouplingsF2_Pi(delta):\n",
    "    return [ \n",
    "    # For |F,mF>=|2,mF> <--> |F',mF'>=|3,mF>\n",
    "    (CGg2MMx3MM, 'g2MM', 'x3MM', delta - 2*deltaZ - deltaZx3MM - deltaEx3),\n",
    "    (CGg2Mx3M,   'g2M',  'x3M',  delta -   deltaZ - deltaZx3M - deltaEx3),\n",
    "    (CGg2x3,     'g2',   'x3',   delta - deltaZx3 - deltaEx3),\n",
    "    (CGg2Px3P,   'g2P',  'x3P',  delta +   deltaZ - deltaZx3P - deltaEx3),\n",
    "    (CGg2PPx3PP, 'g2PP', 'x3PP', delta + 2*deltaZ - deltaZx3PP - deltaEx3),\n",
    "    # For |F,mF>=|2,mF> <--> |F',mF'>=|2,mF>\n",
    "    (CGg2MMx2MM, 'g2MM', 'x2MM', delta - 2*deltaZ - deltaZx2MM),\n",
    "    (CGg2Mx2M,   'g2M',  'x2M',  delta -   deltaZ - deltaZx2M),\n",
    "    (CGg2x2,     'g2',   'x2',   delta - deltaZx2),\n",
    "    (CGg2Px2P,   'g2P',  'x2P',  delta +   deltaZ - deltaZx2P),\n",
    "    (CGg2PPx2PP, 'g2PP', 'x2PP', delta + 2*deltaZ - deltaZx2PP),\n",
    "    # For |F,mF>=|2,mF> <--> |F',mF'>=|1,mF>\n",
    "    (CGg2Mx1M,   'g2M',  'x1M',  delta -   deltaZ - deltaZx1M - deltaEx1),\n",
    "    (CGg2x1,     'g2',   'x1',   delta - deltaZx1 - deltaEx1),\n",
    "    (CGg2Px1P,   'g2P',  'x1P',  delta +   deltaZ - deltaZx1P - deltaEx1),\n",
    "    # For |F,mF>=|2,mF> <--> |F',mF'>=|0,mF>\n",
    "    (CGg2x0,     'g2',   'x0',   delta - deltaZx0 - deltaEx0),\n",
    "    ]\n",
    "\n",
    "'''\n",
    "The laser couplings for STIRAP 'PiSigma' repumping with\n",
    "    :|F,mF>-|F',mF'>-|F,mF> <--> |1,-1>-|2,-1>-|2,-2>\n",
    "'''\n",
    "def getCouplingsF1_Pi(delta):\n",
    "    return [ \n",
    "    # For |F,mF>=|1,mF> <--> |F',mF'>=|3,mF>\n",
    "    (CGg1Mx3M, 'g1M', 'x3M', delta + deltaZ - deltaZx3M - deltaEx3),\n",
    "    (CGg1x3,   'g1',  'x3',  delta - deltaZx3 - deltaEx3),\n",
    "    (CGg1Px3P, 'g1P', 'x3P', delta - deltaZ - deltaZx3P - deltaEx3),\n",
    "    # For |F,mF>=|1,mF> <--> |F',mF'>=|2,mF>\n",
    "    (CGg1Mx2M, 'g1M', 'x2M', delta + deltaZ - deltaZx2M),\n",
    "    (CGg1x2,   'g1',  'x2',  delta - deltaZx2),\n",
    "    (CGg1Px2P, 'g1P', 'x2P', delta - deltaZ - deltaZx2P),\n",
    "    # For |F,mF>=|1,mF> <--> |F',mF'>=|1,mF>\n",
    "    (CGg1Mx1M, 'g1M', 'x1M', delta + deltaZ - deltaZx1M - deltaEx1),\n",
    "    (CGg1x1,   'g1',  'x1',  delta - deltaZx1 - deltaEx1),\n",
    "    (CGg1Px1P, 'g1P', 'x1P', delta - deltaZ - deltaZx1P - deltaEx1),\n",
    "    # For |F,mF>=|1,mF> <--> |F',mF'>=|0,mF>\n",
    "    (CGg1x0,   'g1',  'x0',  delta - deltaZx0 - deltaEx0),\n",
    "    ]\n",
    "\n",
    "def getCouplingsF2_Sigma(delta):\n",
    "    return [\n",
    "    # For |F,mF>=|2,mF> <--> |F',mF'>=|3,mF+/-1>\n",
    "    (CGg2MMx3MMM, 'g2MM', 'x3MMM', delta - 2 * deltaZ - deltaZx3MMM - deltaEx3),\n",
    "    (CGg2MMx3M,   'g2MM', 'x3M',   delta - 2 * deltaZ - deltaZx3M - deltaEx3),\n",
    "    (CGg2Mx3MM,   'g2M',  'x3MM',  delta - deltaZ - deltaZx3MM - deltaEx3),\n",
    "    (CGg2Mx3,     'g2M',  'x3',    delta - deltaZ - deltaZx3 - deltaEx3),\n",
    "    (CGg2x3M,     'g2',   'x3M',   delta - deltaZx3M - deltaEx3),\n",
    "    (CGg2x3P,     'g2',   'x3P',   delta - deltaZx3P - deltaEx3),\n",
    "    (CGg2Px3,     'g2P',  'x3',    delta + deltaZ - deltaZx3 - deltaEx3),\n",
    "    (CGg2Px3PP,   'g2P',  'x3PP',  delta + deltaZ - deltaZx3PP - deltaEx3),\n",
    "    (CGg2PPx3P,   'g2PP', 'x3P',   delta + 2 * deltaZ - deltaZx3P - deltaEx3),\n",
    "    (CGg2PPx3PPP, 'g2PP', 'x3PPP', delta + 2 * deltaZ - deltaZx3PPP - deltaEx3),\n",
    "    # For |F,mF>=|2,mF> <--> |F',mF'>=|2,mF+/-1>\n",
    "    (CGg2MMx2M,   'g2MM', 'x2M',   delta - 2 * deltaZ - deltaZx2M),\n",
    "    (CGg2Mx2MM,   'g2M',  'x2MM',  delta - deltaZ - deltaZx2MM),\n",
    "    (CGg2Mx2,     'g2M',  'x2',    delta - deltaZ - deltaZx2),\n",
    "    (CGg2x2M,     'g2',   'x2M',   delta - deltaZx2M),\n",
    "    (CGg2x2P,     'g2',   'x2P',   delta - deltaZx2P),\n",
    "    (CGg2Px2,     'g2P',  'x2',    delta + deltaZ - deltaZx2),\n",
    "    (CGg2Px2PP,   'g2P',  'x2PP',  delta + deltaZ - deltaZx2PP),\n",
    "    (CGg2PPx2P,   'g2PP', 'x2P',   delta + 2 * deltaZ - deltaZx2P),\n",
    "    # For |F,mF>=|2,mF> <--> |F',mF'>=|1,mF+/-1>\n",
    "    (CGg2MMx1M,   'g2MM', 'x1M',   delta - 2 * deltaZ - deltaZx1M - deltaEx1),\n",
    "    (CGg2Mx1,     'g2M',  'x1',    delta - deltaZ - deltaZx1 - deltaEx1),\n",
    "    (CGg2x1M,     'g2',   'x1M',   delta - deltaZx1M - deltaEx1),\n",
    "    (CGg2x1P,     'g2',   'x1P',   delta - deltaZx1P - deltaEx1),\n",
    "    (CGg2Px1,     'g2P',  'x1',    delta + deltaZ - deltaZx1 - deltaEx1),\n",
    "    (CGg2PPx1P,   'g2PP', 'x1P',   delta + 2 * deltaZ - deltaZx1P - deltaEx1),\n",
    "    # For |F,mF>=|2,mF> <--> |F',mF'>=|0,mF+/-1>\n",
    "    (CGg2Mx0,     'g2M',  'x0',    delta - deltaZ - deltaZx0 - deltaEx0),\n",
    "    (CGg2Px0,     'g2P',  'x0',    delta + deltaZ - deltaZx0 - deltaEx0)\n",
    "    ]\n",
    "\n",
    "'''\n",
    "Define the couplings used here.\n",
    "'''\n",
    "# Couplings used for vSTIRAP.\n",
    "cavityCouplings_F1 = getCouplingsF1_Sigma(deltaC)\n",
    "laserCouplings_F2_Pi_Stirap = getCouplingsF2_Pi(deltaL2_Pi_Stirap)\n",
    "\n",
    "# Couplings used for repumping.\n",
    "laserCouplingsF1_Sigma = getCouplingsF1_Sigma(deltaL1_Sigma)\n",
    "laserCouplingsF2_Pi = getCouplingsF2_Pi(deltaL2_Pi)\n",
    "laserCouplingsF2_Sigma = getCouplingsF2_Sigma(deltaL2_Sigma)\n",
    "laserCouplingsF1_Pi = getCouplingsF1_Pi(deltaL1_Pi)\n",
    "\n",
    "'''\n",
    "Convert a list of couplings as returned by getCouplings...() to a list\n",
    "of time dependent Hamiltonian terms as required by qutip.mesolve(...).\n",
    "\n",
    "Needs: couplings:  the list of couplings as returned by getCouplings...()\n",
    "       rabiFreq:   the intensity of the couplings (with angular dependence factored out)\n",
    "       pulseShape: the shape of the pulse (in the string format for mesolve compilation\n",
    "                   into Cython.\n",
    "                   If None the coupling is presumed constant and a cavityCoupling(...)\n",
    "                   is set, otherwise laserCoupling(...) is used.\n",
    "\n",
    "Returns: hams: the list of Hamiltonian terms\n",
    "         args_hams: the dictionary of args needed by qutip.mesolve\n",
    "'''\n",
    "def couplingsToHamiltonians(couplings, rabiFreq, pulseShape=None):\n",
    "    hams, args_hams = [], dict()\n",
    "    for x in couplings:\n",
    "        # Check if this is a coupling between configured states.\n",
    "        if  x[1] in atomStates and x[2] in atomStates:\n",
    "            if pulseShape != None:\n",
    "                ham, args_ham = laserCoupling(rabiFreq*x[0], x[1], x[2], x[3], args_hams, pulseShape) \n",
    "            else:\n",
    "                ham, args_ham = cavityCoupling(rabiFreq*x[0], x[1], x[2], x[3], args_hams) \n",
    "            hams.append(ham)\n",
    "    return list(chain(*hams)), args_hams\n",
    "\n",
    "# Create Hamiltonian terms for cavity coupling and vSTIRAP\n",
    "hams_cavity, args_hams_cavity = couplingsToHamiltonians(cavityCouplings_F1, d*coupling_factor)\n",
    "hams_F2_Pi_Stirap, args_hams_F2_Pi_Stirap = couplingsToHamiltonians(laserCouplings_F2_Pi_Stirap, OmegaStirap,\n",
    "                                                                    'np.sin(wStirap*t)**2')\n",
    "\n",
    "# Create Hamiltonian terms for SigmaPi STIRAP repumping with\n",
    "#     |F,mF>-|F',mF'>-|F,mF> <--> |1,-1>-|2,-2>-|2,-2>\n",
    "[A2,A1] = [abs(x)*2*np.pi for x in [A/CGg2MMx2MM,A/CGg1Mx2MM]]\n",
    "hams_F1_Sigma, args_hams_F1_Sigma = couplingsToHamiltonians(laserCouplingsF1_Sigma,A1,\n",
    "                                                            'np.piecewise(t, [t>t0_1], [np.sin(w1*(t-t0_1))**2,0])')\n",
    "hams_F2_Pi,    args_hams_F2_Pi    = couplingsToHamiltonians(laserCouplingsF2_Pi,   A2,\n",
    "                                                            'np.piecewise(t, [t<t0_2+length2], [np.sin(w2*(t-t0_2))**2,0])')\n",
    "\n",
    "# Create Hamiltonian for PiSigma STIRAP repumping with|\n",
    "#     F,mF>-|F',mF'>-|F,mF> <--> |1,-1>-|2,-1>-|2,-2>\n",
    "[A2,A1] = [abs(x)*2*np.pi for x in [A/CGg2MMx2M,A/CGg1Mx2M]]\n",
    "hams_F1_Pi,    args_hams_F1_Pi    = couplingsToHamiltonians(laserCouplingsF1_Pi,   A1,\n",
    "                                                            'np.piecewise(t, [t>t0_1], [np.sin(w1*(t-t0_1))**2,0])')\n",
    "hams_F2_Sigma, args_hams_F2_Sigma = couplingsToHamiltonians(laserCouplingsF2_Sigma,A2,\n",
    "                                                            'np.piecewise(t, [t<t0_2+length2], [np.sin(w2*(t-t0_2))**2,0])')\n",
    "\n",
    "args_hams_Stirap = {**args_omega_stirap,**args_hams_cavity,**args_hams_F2_Pi_Stirap}\n",
    "args_hams_SigmaPiRepump = {**args_omega_repump,**args_hams_cavity,**args_hams_F1_Sigma,**args_hams_F2_Pi}\n",
    "args_hams_PiSigmaRepump = {**args_omega_repump,**args_hams_cavity,**args_hams_F1_Pi,**args_hams_F2_Sigma}\n",
    "args_hams_FullRepump = {**args_omega_repump,**args_hams_cavity,**args_hams_F1_Sigma,**args_hams_F1_Pi,**args_hams_F2_Sigma}\n",
    "\n",
    "H_Stirap = list(chain(*[hams_cavity, hams_F2_Pi_Stirap]))\n",
    "H_SigmaPiRepump = list(chain(*[hams_cavity, hams_F1_Sigma, hams_F2_Pi]))\n",
    "H_PiSigmaRepump = list(chain(*[hams_cavity, hams_F1_Pi,    hams_F2_Sigma]))"
   ]
  },
  {
   "cell_type": "code",
   "execution_count": 7,
   "metadata": {},
   "outputs": [],
   "source": [
    "'''\n",
    "Here we define Hamiltonians in an equivilent manner to those for vSTIRAP\n",
    "photon production and STIRAP repumping above, however we consider a third\n",
    "possible action: appyling a Pi and Sigma polarised pulse to either clear\n",
    "F=2 before repumping begins or to clear F=1 after repumping ends.\n",
    "\n",
    "I have not found these particularly advantageous but feel free to play\n",
    "around with them!\n",
    "'''\n",
    "\n",
    "deltaPulse= 2*deltaZ + deltaZx2MM # Pulse detuning\n",
    "lengthPulse = 0.2 # Pulse length\n",
    "\n",
    "'''\n",
    "Pulses to clear F=2 before repumping begins.\n",
    "'''\n",
    "laserCouplingsF2_Pi_Pulse = getCouplingsF2_Pi(deltaPulse)\n",
    "laserCouplingsF2_Sigma_Pulse = getCouplingsF2_Sigma(deltaPulse)\n",
    "\n",
    "hams_F2_PiPulse, args_hams_F2_PiPulse = couplingsToHamiltonians(laserCouplingsF2_Pi_Pulse,\n",
    "                                                                70*2*np.pi,\n",
    "                                                                '1')\n",
    "hams_F2_SigmaPulse, args_hams_F2_SigmaPulse = couplingsToHamiltonians(laserCouplingsF2_Sigma_Pulse,\n",
    "                                                                      25*2*np.pi,\n",
    "                                                                      '1')\n",
    "args_hams_F2_PiPulse = {**args_hams_cavity,**args_hams_F2_PiPulse}\n",
    "args_hams_F2_SigmaPulse = {**args_hams_cavity,**args_hams_F2_SigmaPulse}\n",
    "\n",
    "H_F2_PiPulse = list(chain(*[hams_cavity, hams_F2_PiPulse]))\n",
    "H_F2_SigmaPulse = list(chain(*[hams_cavity, hams_F2_SigmaPulse]))\n",
    "\n",
    "'''\n",
    "Pulses to clear F=1 after repumping ends.\n",
    "'''\n",
    "\n",
    "laserCouplingsF1_Pi_Pulse = getCouplingsF1_Pi(deltaPulse)\n",
    "laserCouplingsF1_Sigma_Pulse = getCouplingsF1_Sigma(deltaPulse)\n",
    "\n",
    "hams_F1_PiPulse, args_hams_F1_PiPulse = couplingsToHamiltonians(laserCouplingsF1_Pi_Pulse,\n",
    "                                                                70*2*np.pi,\n",
    "                                                                '1')\n",
    "hams_F1_SigmaPulse, args_hams_F1_SigmaPulse = couplingsToHamiltonians(laserCouplingsF1_Sigma_Pulse,\n",
    "                                                                      70*2*np.pi,\n",
    "                                                                      '1')\n",
    "\n",
    "args_hams_F1_PiPulse = {**args_hams_cavity,**args_hams_F1_PiPulse}\n",
    "args_hams_F1_SigmaPulse = {**args_hams_cavity,**args_hams_F1_SigmaPulse}\n",
    "\n",
    "H_F1_PiPulse = list(chain(*[hams_cavity, hams_F1_PiPulse]))\n",
    "H_F1_SigmaPulse = list(chain(*[hams_cavity, hams_F1_SigmaPulse]))"
   ]
  },
  {
   "cell_type": "code",
   "execution_count": 8,
   "metadata": {},
   "outputs": [
    {
     "name": "stdout",
     "output_type": "stream",
     "text": [
      "Hamiltonian 'H_Stirap': states pre-computed in in 10.642513990402222 seconds\n"
     ]
    },
    {
     "name": "stdout",
     "output_type": "stream",
     "text": [
      "Hamiltonian 'H_SigmaPi_Repump': states pre-computed in in 20.760735988616943 seconds\n"
     ]
    },
    {
     "name": "stdout",
     "output_type": "stream",
     "text": [
      "Hamiltonian 'H_PiSigma_Repump': states pre-computed in in 21.949826955795288 seconds\n"
     ]
    },
    {
     "name": "stdout",
     "output_type": "stream",
     "text": [
      "Hamiltonian 'H_F2_PiPulse': states pre-computed in in 8.0624840259552 seconds\n"
     ]
    },
    {
     "name": "stdout",
     "output_type": "stream",
     "text": [
      "Hamiltonian 'H_F2_SigmaPulse': states pre-computed in in 11.70924425125122 seconds\n"
     ]
    }
   ],
   "source": [
    "'''\n",
    "When repeatedly simulating a system where only the time-dependent variables,\n",
    "or initial state change, it is possible to reuse the Hamiltonian data stored\n",
    "in QuTiP and there by avoid spending time needlessly preparing the Hamiltonian\n",
    "and collapse terms for simulation. To turn on the the reuse features, we must\n",
    "pass a qutip.Options object with the rhs_reuse flag turned on, or we can\n",
    "pre-compile the Hamiltonian and pass it explicitly to the solver. \n",
    "'''\n",
    "\n",
    "# A list of Hamiltonians to pre-compile in the form:\n",
    "#    (Cythonised Hamiltonian, arguement dictionary, compiled file name)\n",
    "H_list = [\n",
    "    (H_Stirap, args_hams_Stirap, 'H_Stirap'),\n",
    "    \n",
    "    (H_SigmaPiRepump, args_hams_SigmaPiRepump, 'H_SigmaPi_Repump'), \n",
    "    (H_PiSigmaRepump, args_hams_PiSigmaRepump, 'H_PiSigma_Repump'),\n",
    "    # \n",
    "    (H_F2_PiPulse, args_hams_F2_PiPulse, 'H_F2_PiPulse'),\n",
    "    (H_F2_SigmaPulse, args_hams_F2_SigmaPulse, 'H_F2_SigmaPulse')\n",
    "    # (H_F1_PiPulse, args_hams_F1_PiPulse, 'H_F1_PiPulse'),\n",
    "    # (H_F1_SigmaPulse, args_hams_F1_SigmaPulse, 'H_F1_SigmaPulse')\n",
    "]\n",
    "\n",
    "H_rhs_compiled=[]\n",
    "\n",
    "for H, args, label in H_list:\n",
    "    t_start = time.time()\n",
    "    rhs_generate(H, c_op_list, args=args, name=label, cleanup=False)\n",
    "    H_rhs_compiled.append(H)\n",
    "    print('Hamiltonian \\'{0}\\': states pre-computed in in {1} seconds'.format(label, time.time()-t_start))"
   ]
  },
  {
   "cell_type": "code",
   "execution_count": 9,
   "metadata": {
    "collapsed": false
   },
   "outputs": [
    {
     "name": "stdout",
     "output_type": "stream",
     "text": [
      "Simulation 1/8 with 51 timesteps completed in 0.924 seconds\n"
     ]
    },
    {
     "name": "stdout",
     "output_type": "stream",
     "text": [
      "Simulation 2/8 with 51 timesteps completed in 5.321 seconds\n"
     ]
    },
    {
     "name": "stdout",
     "output_type": "stream",
     "text": [
      "Simulation 3/8 with 51 timesteps completed in 1.028 seconds\n"
     ]
    },
    {
     "name": "stdout",
     "output_type": "stream",
     "text": [
      "Simulation 4/8 with 51 timesteps completed in 4.874 seconds\n"
     ]
    },
    {
     "name": "stdout",
     "output_type": "stream",
     "text": [
      "Simulation 5/8 with 51 timesteps completed in 1.104 seconds\n"
     ]
    },
    {
     "name": "stdout",
     "output_type": "stream",
     "text": [
      "Simulation 6/8 with 51 timesteps completed in 5.321 seconds\n"
     ]
    },
    {
     "name": "stdout",
     "output_type": "stream",
     "text": [
      "Simulation 7/8 with 51 timesteps completed in 0.993 seconds\n"
     ]
    },
    {
     "name": "stdout",
     "output_type": "stream",
     "text": [
      "Simulation 8/8 with 51 timesteps completed in 5.193 seconds\n"
     ]
    }
   ],
   "source": [
    "'''\n",
    "Perform simulation\n",
    "'''\n",
    "tStirap,tStirapStep = np.linspace(0, lengthStirap, 51, retstep=True)\n",
    "tRepump,tRepumpStep = np.linspace(0, lengthRepump, 51, retstep=True)\n",
    "tPulse,tPulseStep = np.linspace(0, lengthPulse, 51, retstep=True)\n",
    "\n",
    "psi0 = ket(*['g2MM',0]) # Initial state of the system\n",
    "\n",
    "n_Cycles = 4 # Number of times to apply the sequence of actions defined in H_list\n",
    "\n",
    "# The actions to apply in terms of a list of the form\n",
    "#      (Cythonised Hamiltonian,\n",
    "#       list of time steps,\n",
    "#       arguement dictionary,\n",
    "#       compiled file name)\n",
    "H_list = [\n",
    "    (H_Stirap, tStirap, args_hams_Stirap, 'H_Stirap'),\n",
    "\n",
    "    # (H_F2_PiPulse, tPulse, args_hams_F2_PiPulse, 'H_F2_PiPulse'),\n",
    "    # (H_F2_SigmaPulse, tPulse, args_hams_F2_SigmaPulse, 'H_F2_SigmaPulse'),\n",
    "    \n",
    "   (H_PiSigmaRepump, tRepump, args_hams_PiSigmaRepump, 'H_PiSigma_Repump') # Better choice\n",
    "    #(H_SigmaPiRepump, tRepump, args_hams_SigmaPiRepump, 'H_SigmaPi_Repump')\n",
    "    \n",
    "    # (H_F1_PiPulse, tPulse, args_hams_F1_PiPulse, 'H_F1_PiPulse')\n",
    "    #(H_F1_SigmaPulse, tPulse, args_hams_F1_SigmaPulse, 'H_F1_SigmaPulse')\n",
    "    \n",
    "    # (H_FullRepump, tRepump, args_hams_FullRepump, 'H_Full_Repump')\n",
    "    ]\n",
    "\n",
    "for H_info in H_list:\n",
    "    if H_info[0] not in H_rhs_compiled:  print( \n",
    "      'WARNING: The Hamiltonian does not match the form of the \\\n",
    "      Hamiltonian pre-complied to Cython by Qutip.\\n \\\n",
    "      Consider re-running the \\'rhs_generate(...)\\' function (i.e. the above cell hopefully)'\n",
    "      )\n",
    "\n",
    "psi=psi0\n",
    "i, n_hams = 0, len(H_list)*n_Cycles\n",
    "output_states_list = []\n",
    "t_list = []\n",
    "for H, t, args, label in H_list*n_Cycles:\n",
    "\n",
    "    opts = Options(rhs_reuse=False,rhs_filename=label)\n",
    "    t_start = time.time()\n",
    "    \n",
    "    output = mesolve(H, psi, t, c_op_list, [], args=args, options=opts, progress_bar=None)\n",
    "    \n",
    "    i+=1\n",
    "    print('Simulation {0}/{1} with {2} timesteps completed in {3} seconds'.format(\n",
    "            i, n_hams, t.size,np.round(time.time()-t_start,3) ))\n",
    "    \n",
    "    output_states_list.append(output.states)\n",
    "    t_list.append(t)\n",
    "\n",
    "    psiList=[]\n",
    "    for k in aDict:\n",
    "        psiList.append( ( abs((output.states[-1]*aDict[k]).tr()) ,  ket(*[k,0])) )\n",
    "    psi = sum([np.sqrt(x)*y for x,y in psiList])"
   ]
  },
  {
   "cell_type": "code",
   "execution_count": 10,
   "metadata": {
    "collapsed": true
   },
   "outputs": [
    {
     "name": "stdout",
     "output_type": "stream",
     "text": [
      "Looking at output after H_Stirap is applied.\nPhoton emission from cavity: 0.619\nTotal spontaneous emission: 0.467\nRatio of cavity to spontaneous emission: 1.326\nFinal pops: |2,-2>,|1,-1>: 0.062 0.854\nFinal pops: |2,0>,|1,0>: 0.003 0.004\n"
     ]
    },
    {
     "name": "stderr",
     "output_type": "stream",
     "text": [
      "/anaconda3/envs/rb-cqed-env/lib/python3.6/site-packages/matplotlib/axes/_axes.py:545: UserWarning: No labelled objects found. Use label='...' kwarg on individual plots.\n  warnings.warn(\"No labelled objects found. \"\n"
     ]
    },
    {
     "data": {
      "image/png": "[encoded data removed]",
      "text/plain": [
       "<matplotlib.figure.Figure at 0x1190ca080>"
      ]
     },
     "metadata": {},
     "output_type": "display_data"
    }
   ],
   "source": [
    "'''\n",
    "Handle simulation results.  Here we produce plots showing the evolution of the\n",
    "system during a particular driving sequence (as indexed by iOutput).\n",
    "\n",
    "'''\n",
    "iOutput=0\n",
    "print('Looking at output after {0} is applied.'.format( (H_list*n_Cycles)[iOutput][-1] ))\n",
    "output_states = output_states_list[iOutput]\n",
    "t=t_list[iOutput]\n",
    "tStep=(t[-1]-t[0])/(len(t)-1)\n",
    "\n",
    "# Expectation value of photon number operator.\n",
    "exp_an = np.real( np.array([(x*an).tr() for x in output_states]) )\n",
    "\n",
    "# Expectation value of atomic state populations.\n",
    "exp_ag2MM = np.real( np.array([(x*ag2MM).tr() for x in output_states]) )\n",
    "exp_ax2MM = np.real( np.array([(x*ax2MM).tr() for x in output_states]) )\n",
    "exp_ag1M = np.real( np.array([(x*ag1M).tr() for x in output_states]) )\n",
    "\n",
    "[exp_ag1,exp_ag1P,\n",
    " exp_ag2M,exp_ag2,exp_ag2P,exp_ag2PP] = [\n",
    "    np.real( np.array([(x*a).tr() for x in output_states]) ) \n",
    "    for a in [ag1,ag1P,\n",
    "              ag2M,ag2,ag2P,ag2PP]\n",
    "]\n",
    "\n",
    "if 'x0' in xlvls: exp_ax0 = np.real( np.array([(x*ax0).tr() for x in output_states]) )\n",
    "\n",
    "exp_ax1s = []\n",
    "for x1x, ax1x, lab in zip(\n",
    "        ['x1M', 'x1','x1P'],\n",
    "        [ax1M,ax1,ax1P],\n",
    "        ['|F\\',mF\\'>=|1,-1>','|F\\',mF\\'>=|1,0>','|F\\',mF\\'>=|1,+1>']\n",
    "):\n",
    "    if x1x in xlvls:\n",
    "        exp_ax1s.append( ('${0}: {1}$'.format(x1x,lab), \n",
    "                          np.real( np.array([(x*ax1x).tr() for x in output_states]) )) )\n",
    "\n",
    "[exp_ax2MM,exp_ax2M,exp_ax2,exp_ax2P,exp_ax2PP] = [\n",
    "    np.real( np.array([(x*a).tr() for x in output_states]) ) \n",
    "    for a in [ax2MM,ax2M,ax2,ax2P,ax2PP]\n",
    "]\n",
    "\n",
    "exp_ax3s = []\n",
    "for x3x, ax3x, lab in zip(['x3MMM', 'x3MM','x3M','x3','x3P','x3PP', 'x3PPP'],\n",
    "                [ax3MMM,ax3MM,ax3M,ax3,ax3P,ax3PP,ax3PPP],\n",
    "                ['|F\\',mF\\'>=|3,-3>','|F\\',mF\\'>=|3,-2>','|F\\',mF\\'>=|3,-1>',\n",
    "                 '|F\\',mF\\'>=|3,0>',\n",
    "                 '|F\\',mF\\'>=|3,+1>','|F\\',mF\\'>=|3,+2>','|F\\',mF\\'>=|3,+3>']):\n",
    "    if x3x in xlvls: \n",
    "        exp_ax3s.append( ('${0}: {1}$'.format(x3x,lab), \n",
    "                          np.real( np.array([(x*ax3x).tr() for x in output_states]) )) )\n",
    "\n",
    "exp_spontDecay = np.real( np.array([(x*sigma_spontDecayOp).tr() for x in output_states]) )\n",
    "\n",
    "plt.rcParams['text.usetex'] = True\n",
    "\n",
    "'''\n",
    "Calculate total cavity emission and spontaneous emission.\n",
    "'''\n",
    "n_ph = np.trapz(2*kappa*exp_an, dx=tStep)\n",
    "n_spont = np.trapz(exp_spontDecay, dx=tStep)\n",
    "\n",
    "print('Photon emission from cavity:', np.round(n_ph,3))\n",
    "print('Total spontaneous emission:', np.round(n_spont,3))\n",
    "print('Ratio of cavity to spontaneous emission:', np.round(n_ph/n_spont,3))\n",
    "print('Final pops: |2,-2>,|1,-1>:', np.round(exp_ag2MM[-1],3),np.round(exp_ag1M[-1],3))\n",
    "print('Final pops: |2,0>,|1,0>:', np.round(exp_ag2[-1],3),np.round(exp_ag1[-1],3))\n",
    "\n",
    "# Plot the results\n",
    "f, (a1,a2,a3,a4,a5,a6,a7,a8) = plt.subplots(8, 1, sharex=True, figsize=(20, 20))\n",
    "\n",
    "a1.plot(t, 2*kappa*exp_an, 'b', label='$n_ph$')\n",
    "a1.set_ylabel('Cavity emission rate, $1/\\mu s$')\n",
    "a1.legend(loc=2)\n",
    "a1b = a1.twinx()\n",
    "# a1b.plot(t, [Omega(x)/(2*np.pi) for x in t], '--k', label='$\\Omega(t)$')\n",
    "a1b.plot(t, [Omega1(x)/(2*np.pi) for x in t], '--k', label='$\\Omega_1(t)$')\n",
    "a1b.plot(t, [Omega2(x)/(2*np.pi) for x in t], '--y', label='$\\Omega_2(t)$')\n",
    "a1b.legend(loc=0)\n",
    "\n",
    "a2.plot(t, exp_ag2MM,  'b', label='$g2MM:|F,mF>=|2,-2>$')\n",
    "a2.plot(t, exp_ax2MM,  'g', label='$x2MM:|F\\',mF\\'>=|2,-2>$')\n",
    "a2.plot(t, exp_ag1M,   'r', label='$g1M: |F,mF>=|1,-1>$')\n",
    "a2.set_ylabel('Population')\n",
    "a2.legend(loc=2)\n",
    "\n",
    "a3.plot(t, exp_ag1M,   'r', label='$g1M: |F,mF>=|1,-1>$')\n",
    "a3.plot(t, exp_ag1,  '--c', label='$g1:  |F,mF>=|1,0>$')\n",
    "a3.plot(t, exp_ag1P, '--m', label='$g1P: |F,mF>=|1,+1>$')\n",
    "a3.legend(loc=2)\n",
    "\n",
    "a4.plot(t, exp_ag2MM,  'b', label='$g2MM:|F,mF>=|2,-2>$')\n",
    "a4.plot(t, exp_ag2M, '--r', label='$g2M: |F,mF>=|2,-1>$')\n",
    "a4.plot(t, exp_ag2,  '--y', label='$g2:  |F,mF>=|2,0>$')\n",
    "a4.plot(t, exp_ag2P, '--m', label='$g2P: |F,mF>=|2,+1>$')\n",
    "a4.plot(t, exp_ag2PP,'--k', label='$g2PP:|F,mF>=|2,+2>$')\n",
    "a4.legend(loc=2)\n",
    "\n",
    "if 'x0' in xlvls: a5.plot(t, exp_ax0,  '--y', label='$x0:  |F\\',mF\\'>=|1,0>$')\n",
    "a5.legend(loc=2)\n",
    "\n",
    "# a6.plot(t, exp_ax1M, '--r', label='$x1M: |F\\',mF\\'>=|1,-1>$')\n",
    "# a6.plot(t, exp_ax1,  '--y', label='$x1:  |F\\',mF\\'>=|1,0>$')\n",
    "# a6.plot(t, exp_ax1P, '--m', label='$x1P: |F\\',mF\\'>=|1,+1>$')\n",
    "# a6.legend(loc=2)\n",
    "\n",
    "for lab, data in exp_ax1s:\n",
    "    a6.plot(t, data,'--', label=lab)\n",
    "a6.legend(loc=2)\n",
    "\n",
    "a7.plot(t, exp_ax2MM,  'b', label='$x2MM:|F\\',mF\\'>=|2,-2>$')\n",
    "a7.plot(t, exp_ax2M, '--r', label='$x2M: |F\\',mF\\'>=|2,-1>$')\n",
    "a7.plot(t, exp_ax2,  '--y', label='$x2:  |F\\',mF\\'>=|2,0>$')\n",
    "a7.plot(t, exp_ax2P, '--m', label='$x2P: |F\\',mF\\'>=|2,+1>$')\n",
    "a7.plot(t, exp_ax2PP,'--k', label='$x2PP:|F\\',mF\\'>=|2,+2>$')\n",
    "a7.legend(loc=2)\n",
    "\n",
    "for lab, data in exp_ax3s:\n",
    "    a8.plot(t, data,'--', label=lab)\n",
    "a8.legend(loc=2)"
   ]
  },
  {
   "cell_type": "code",
   "execution_count": 11,
   "metadata": {},
   "outputs": [],
   "source": [
    "'''\n",
    "This takes the index of a particular action, iOutput, and produces a summary\n",
    "plot of the atomic populations at the end of this.\n",
    "'''\n",
    "def summariseOutputState(iOutput):\n",
    "    t=t_list[iOutput]\n",
    "    tStep=(t[-1]-t[0])/(len(t)-1)\n",
    "\n",
    "    output_states = output_states_list[iOutput]\n",
    "    final_state = output_states[-1]\n",
    "    initial_state = output_states[0]\n",
    "\n",
    "    labs_ag1s, exp_final_ag1s, exp_init_ag1s = [], [], []\n",
    "    for g1x, ag1x, lab in zip(\n",
    "            ['g1M', 'g1','g1P'],\n",
    "            [ag1M,ag1,ag1P],\n",
    "            ['-1','0','+1']\n",
    "    ):\n",
    "        labs_ag1s.append( '${0}: {1}$'.format(g1x,lab) ), \n",
    "        exp_final_ag1s.append( np.real( (final_state*ag1x).tr() ) )\n",
    "        exp_init_ag1s.append( np.real( (initial_state*ag1x).tr() ) )\n",
    "        \n",
    "    labs_ag2s, exp_final_ag2s, exp_init_ag2s = [], [], []\n",
    "    for g2x, ag2x, lab in zip(\n",
    "            ['g2MM','g2M', 'g2','g2P','g2PP'],\n",
    "            [ag2MM,ag2M,ag2,ag2P,ag2PP],\n",
    "            ['-2','-1','0','+1','+2']\n",
    "    ):\n",
    "        labs_ag2s.append( '${0}: {1}$'.format(g2x,lab) ), \n",
    "        exp_final_ag2s.append( np.real( (final_state*ag2x).tr() ) )\n",
    "        exp_init_ag2s.append( np.real( (initial_state*ag2x).tr() ) )\n",
    "        \n",
    "    exp_an = np.real( np.array([(x*an).tr() for x in output_states]) )    \n",
    "    exp_spontDecay = np.real( np.array([(x*sigma_spontDecayOp).tr() for x in output_states]) )\n",
    "    \n",
    "    n_ph = np.trapz(2*kappa*exp_an, dx=tStep)\n",
    "    n_spont = np.trapz(exp_spontDecay, dx=tStep)\n",
    "    \n",
    "    print('\\tPhoton:', np.round(n_ph,3))\n",
    "    print('\\tN. spont. emm by decay operator:', np.round(n_spont,3))\n",
    "    \n",
    "    fig = plt.figure(figsize=(10, 3)) \n",
    "    gs = gridspec.GridSpec(1, 2, width_ratios=[len(labs_ag1s), len(labs_ag2s)]) \n",
    "    a1,a2 = plt.subplot(gs[0]),plt.subplot(gs[1])\n",
    "       \n",
    "    width = 0.8   \n",
    "    for axis, exps_final, exps_init, labs, title in zip(\n",
    "            [a1,a2],[exp_final_ag1s,exp_final_ag2s], [exp_init_ag1s,exp_init_ag2s],\n",
    "            [labs_ag1s, labs_ag2s], ['$|F=1,m_F>$','$|F=2,m_F>$']):\n",
    "        inds=np.arange(len(labs))\n",
    "        \n",
    "        rects_init = axis.bar(inds,exps_init,width, color='r', edgecolor='k', linewidth=2, alpha=0.25, ls='--')\n",
    "        rects_final = axis.bar(inds,exps_final,width, color='b', edgecolor='k', alpha=0.5, linewidth=2)\n",
    "        \n",
    "        for r_i,r_f in zip(rects_init,rects_final):\n",
    "            height_i, height_f = r_i.get_height(), r_f.get_height()\n",
    "            axis.text(r_f.get_x() + r_f.get_width()/2., height_f+0.02,\n",
    "                    '$\\Delta = {}$'.format(np.round(height_f-height_i,3)),\n",
    "                    ha='center', va='bottom')\n",
    "        \n",
    "        axis.set_xticks(inds)\n",
    "        axis.set_xticklabels(labs)\n",
    "        axis.set_ylim([0, 1])\n",
    "        axis.set_xlabel('State (name: $m_F$)')\n",
    "        axis.set_ylabel('Population')\n",
    "        axis.set_title(title)\n",
    "        \n",
    "    return fig"
   ]
  },
  {
   "cell_type": "code",
   "execution_count": 12,
   "metadata": {},
   "outputs": [
    {
     "name": "stdout",
     "output_type": "stream",
     "text": [
      "Looking at output 2/8 (after H_PiSigma_Repump is applied).\n\n\tPhoton: 0.017\n\tN. spont. emm by decay operator: 0.287\n"
     ]
    },
    {
     "data": {
      "image/png": "[encoded data removed]",
      "text/plain": [
       "<matplotlib.figure.Figure at 0x118b03ba8>"
      ]
     },
     "metadata": {},
     "output_type": "display_data"
    }
   ],
   "source": [
    "'''\n",
    "Look at the summary of the system at various points.\n",
    "'''\n",
    "iOutput=1\n",
    "\n",
    "if iOutput<0: iOutput = len(H_list*n_Cycles)+iOutput\n",
    "print('Looking at output {0}/{1} (after {2} is applied).\\n'.format(\n",
    "        iOutput+1, len(H_list*n_Cycles), (H_list*n_Cycles)[iOutput][-1] ))\n",
    "\n",
    "pltSummary = summariseOutputState(iOutput)"
   ]
  },
  {
   "cell_type": "code",
   "execution_count": 13,
   "metadata": {},
   "outputs": [
    {
     "name": "stdout",
     "output_type": "stream",
     "text": [
      "Emm. attempt 1: (Photon emm., Spont. emm) = (0.619,0.467)\n\tProb of 3, 4 photon event with this as final  emission = N/A, N/A\nEmm. attempt 2: (Photon emm., Spont. emm) = (0.526,0.432)\n\tProb of 3, 4 photon event with this as final  emission = N/A, N/A\nEmm. attempt 3: (Photon emm., Spont. emm) = (0.471,0.42)\n\tProb of 3, 4 photon event with this as final  emission = 0.153, N/A\nEmm. attempt 4: (Photon emm., Spont. emm) = (0.437,0.413)\n\tProb of 3, 4 photon event with this as final  emission = 0.108, 0.067\n"
     ]
    }
   ],
   "source": [
    "'''\n",
    "Iterate through all photon emission attempts - which are assumed to be driven\n",
    "by a Hamiltonian 'H_Stirap' - and print the total photon emission from the\n",
    "cavity and total spontaneous emission.\n",
    "\n",
    "Additionally print a running tally of how likely each emission is to be the\n",
    "final emission in a fun of three or four consecutive photon emissions. \n",
    "'''\n",
    "\n",
    "i=0\n",
    "p_Emms, p_threePh, p_fourPh = [], \"N/A\", \"N/A\"\n",
    "for output_states, H_info, t in zip(output_states_list,H_list*n_Cycles, t_list):\n",
    "    if H_info[-1] == 'H_Stirap':\n",
    "        \n",
    "        i+=1\n",
    "        tStep=(t[-1]-t[0])/(len(t)-1)\n",
    "        \n",
    "        exp_an = np.real( np.array([(x*an).tr() for x in output_states]) )    \n",
    "        exp_spontDecay = np.real( np.array([(x*sigma_spontDecayOp).tr() for x in output_states]) )\n",
    "        \n",
    "        n_ph = np.trapz(2*kappa*exp_an, dx=tStep)\n",
    "        n_spont = np.trapz(exp_spontDecay, dx=tStep)\n",
    "        \n",
    "        p_Emms.append(n_ph)\n",
    "        if len(p_Emms)>=4: \n",
    "            p_threePh = np.round(reduce(lambda x,y: x*y, p_Emms[-3:]), 3)\n",
    "            p_fourPh = np.round( reduce(lambda x,y: x*y, p_Emms[-4:]), 3)\n",
    "        elif len(p_Emms)==3:\n",
    "            p_threePh = np.round(reduce(lambda x,y: x*y, p_Emms[-3:]), 3)\n",
    "        \n",
    "        print(\"Emm. attempt {0}: (Photon emm., Spont. emm) = ({1},{2})\".format(i, np.round(n_ph,3), np.round(n_spont,3)))\n",
    "        print(\"\\tProb of 3, 4 photon event with this as final  emission = {0}, {1}\".format(p_threePh,p_fourPh))"
   ]
  },
  {
   "cell_type": "code",
   "execution_count": 169,
   "metadata": {},
   "outputs": [
    {
     "name": "stdout",
     "output_type": "stream",
     "text": [
      "\tPhoton: 0.0\n\tN. spont. emm by decay operator: 0.0\n"
     ]
    },
    {
     "name": "stdout",
     "output_type": "stream",
     "text": [
      "\tPhoton: 0.003\n\tN. spont. emm by decay operator: 0.082\n"
     ]
    },
    {
     "name": "stdout",
     "output_type": "stream",
     "text": [
      "\tPhoton: 0.012\n\tN. spont. emm by decay operator: 0.421\n"
     ]
    },
    {
     "name": "stdout",
     "output_type": "stream",
     "text": [
      "\tPhoton: 0.059\n\tN. spont. emm by decay operator: 1.145\n"
     ]
    },
    {
     "name": "stdout",
     "output_type": "stream",
     "text": [
      "\tPhoton: 0.11\n\tN. spont. emm by decay operator: 0.317\n"
     ]
    },
    {
     "name": "stdout",
     "output_type": "stream",
     "text": [
      "\tPhoton: 0.071\n\tN. spont. emm by decay operator: 1.072\n"
     ]
    },
    {
     "name": "stdout",
     "output_type": "stream",
     "text": [
      "\tPhoton: 0.217\n\tN. spont. emm by decay operator: 0.332\n"
     ]
    },
    {
     "name": "stdout",
     "output_type": "stream",
     "text": [
      "\tPhoton: 0.065\n\tN. spont. emm by decay operator: 0.917\n"
     ]
    },
    {
     "name": "stdout",
     "output_type": "stream",
     "text": [
      "\tPhoton: 0.292\n\tN. spont. emm by decay operator: 0.347\n"
     ]
    },
    {
     "name": "stdout",
     "output_type": "stream",
     "text": [
      "\tPhoton: 0.059\n\tN. spont. emm by decay operator: 0.811\n"
     ]
    },
    {
     "name": "stdout",
     "output_type": "stream",
     "text": [
      "\tPhoton: 0.341\n\tN. spont. emm by decay operator: 0.355\n"
     ]
    },
    {
     "name": "stdout",
     "output_type": "stream",
     "text": [
      "\tPhoton: 0.055\n\tN. spont. emm by decay operator: 0.742\n"
     ]
    },
    {
     "name": "stdout",
     "output_type": "stream",
     "text": [
      "\tPhoton: 0.373\n\tN. spont. emm by decay operator: 0.361\n"
     ]
    },
    {
     "name": "stdout",
     "output_type": "stream",
     "text": [
      "\tPhoton: 0.052\n\tN. spont. emm by decay operator: 0.698\n"
     ]
    },
    {
     "name": "stdout",
     "output_type": "stream",
     "text": [
      "\tPhoton: 0.393\n\tN. spont. emm by decay operator: 0.364\n"
     ]
    },
    {
     "name": "stdout",
     "output_type": "stream",
     "text": [
      "\tPhoton: 0.05\n\tN. spont. emm by decay operator: 0.669\n"
     ]
    },
    {
     "name": "stdout",
     "output_type": "stream",
     "text": [
      "\tPhoton: 0.406\n\tN. spont. emm by decay operator: 0.366\n"
     ]
    },
    {
     "name": "stdout",
     "output_type": "stream",
     "text": [
      "\tPhoton: 0.049\n\tN. spont. emm by decay operator: 0.651\n"
     ]
    },
    {
     "name": "stdout",
     "output_type": "stream",
     "text": [
      "\tPhoton: 0.414\n\tN. spont. emm by decay operator: 0.367\n"
     ]
    },
    {
     "name": "stdout",
     "output_type": "stream",
     "text": [
      "\tPhoton: 0.048\n\tN. spont. emm by decay operator: 0.639\n"
     ]
    },
    {
     "name": "stdout",
     "output_type": "stream",
     "text": [
      "\tPhoton: 0.42\n\tN. spont. emm by decay operator: 0.368\n"
     ]
    },
    {
     "name": "stdout",
     "output_type": "stream",
     "text": [
      "\tPhoton: 0.048\n\tN. spont. emm by decay operator: 0.631\n"
     ]
    },
    {
     "name": "stdout",
     "output_type": "stream",
     "text": [
      "\tPhoton: 0.423\n\tN. spont. emm by decay operator: 0.368\n"
     ]
    },
    {
     "name": "stdout",
     "output_type": "stream",
     "text": [
      "\tPhoton: 0.048\n\tN. spont. emm by decay operator: 0.626\n"
     ]
    },
    {
     "name": "stdout",
     "output_type": "stream",
     "text": [
      "\tPhoton: 0.425\n\tN. spont. emm by decay operator: 0.369\n"
     ]
    },
    {
     "name": "stdout",
     "output_type": "stream",
     "text": [
      "\tPhoton: 0.047\n\tN. spont. emm by decay operator: 0.623\n"
     ]
    },
    {
     "name": "stdout",
     "output_type": "stream",
     "text": [
      "\tPhoton: 0.427\n\tN. spont. emm by decay operator: 0.369\n"
     ]
    },
    {
     "name": "stdout",
     "output_type": "stream",
     "text": [
      "\tPhoton: 0.047\n\tN. spont. emm by decay operator: 0.621\n"
     ]
    },
    {
     "name": "stdout",
     "output_type": "stream",
     "text": [
      "\tPhoton: 0.428\n\tN. spont. emm by decay operator: 0.369\n"
     ]
    },
    {
     "name": "stdout",
     "output_type": "stream",
     "text": [
      "\tPhoton: 0.047\n\tN. spont. emm by decay operator: 0.62\n"
     ]
    }
   ],
   "source": [
    "'''\n",
    "Save summaries to file.\n",
    "'''\n",
    "saveFname = \"data/\"\n",
    "\n",
    "len_output_states_list = len(output_states_list)\n",
    "for iOutput in range(len_output_states_list):\n",
    "    pltSummary = summariseOutputState(iOutput)       \n",
    "    if saveFname!=None:\n",
    "        plt_name = 'SummarisedOutput{0}of{1}.pdf'.format(iOutput,len_output_states_list)\n",
    "        pltSummary.savefig(os.path.join(saveFname, plt_name))\n",
    "        plt.close(pltSummary)"
   ]
  }
 ],
 "metadata": {
  "kernelspec": {
   "display_name": "Python 2",
   "language": "python",
   "name": "python2"
  },
  "language_info": {
   "codemirror_mode": {
    "name": "ipython",
    "version": 2
   },
   "file_extension": ".py",
   "mimetype": "text/x-python",
   "name": "python",
   "nbconvert_exporter": "python",
   "pygments_lexer": "ipython2",
   "version": "2.7.6"
  }
 },
 "nbformat": 4,
 "nbformat_minor": 0
}
