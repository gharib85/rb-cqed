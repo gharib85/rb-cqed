{
 "cells": [
  {
   "cell_type": "code",
   "execution_count": 1,
   "metadata": {
    "collapsed": true
   },
   "outputs": [],
   "source": [
    "%matplotlib inline\n",
    "#%matplotlib notebook\n",
    "\n",
    "import numpy as np\n",
    "import matplotlib.pyplot as plt\n",
    "import pygmo as pg\n",
    "\n",
    "import unicodedata\n",
    "\n",
    "from runners.vStirapRunner import ExperimentalRunner, Atom4lvl, Cavity, CavityBiref, LaserCoupling, CavityCoupling\n",
    "\n",
    "i = np.complex(0,1)"
   ]
  },
  {
   "cell_type": "code",
   "execution_count": 2,
   "metadata": {},
   "outputs": [],
   "source": [
    "pi_str = unicodedata.lookup(\"GREEK SMALL LETTER PI\")\n",
    "Delta_str = unicodedata.lookup(\"GREEK CAPITAL LETTER DELTA\")\n",
    "kappa_str = unicodedata.lookup(\"GREEK SMALL LETTER KAPPA\")"
   ]
  },
  {
   "cell_type": "markdown",
   "metadata": {},
   "source": [
    "### 2D scans of $\\kappa$ and $\\Delta_P$"
   ]
  },
  {
   "cell_type": "markdown",
   "metadata": {},
   "source": [
    "#### Macroscopic cavities - $g/2\\pi = 3$MHz"
   ]
  },
  {
   "cell_type": "code",
   "execution_count": 3,
   "metadata": {},
   "outputs": [],
   "source": [
    "g, gamma = [x*2*np.pi for x  in [3,3]]\n",
    "\n",
    "atom4lvl = Atom4lvl(gamma=gamma, configured_states=['x','gP'])\n",
    "\n",
    "cav = CavityBiref(g=g, kappa1=0, kappa2=0, R_CL=[[1,0],[0,1]], deltaP=0)\n",
    "\n",
    "cavity_coupling = CavityCoupling(g0=cav.g,\n",
    "                                 g='gP', x='x',\n",
    "                                 deltaC = 0 * 2*np.pi,\n",
    "                                 deltaM=[1,-1],\n",
    "                                 couple_off_resonance=False)"
   ]
  },
  {
   "cell_type": "code",
   "execution_count": 61,
   "metadata": {},
   "outputs": [
    {
     "name": "stdout",
     "output_type": "stream",
     "text": [
      "\nSimulating for Δ/2π=0\n\tκ/2π=0..."
     ]
    },
    {
     "name": "stdout",
     "output_type": "stream",
     "text": [
      "1..."
     ]
    },
    {
     "name": "stdout",
     "output_type": "stream",
     "text": [
      "2..."
     ]
    },
    {
     "name": "stdout",
     "output_type": "stream",
     "text": [
      "3..."
     ]
    },
    {
     "name": "stdout",
     "output_type": "stream",
     "text": [
      "4..."
     ]
    },
    {
     "name": "stdout",
     "output_type": "stream",
     "text": [
      "5..."
     ]
    },
    {
     "name": "stdout",
     "output_type": "stream",
     "text": [
      "6..."
     ]
    },
    {
     "name": "stdout",
     "output_type": "stream",
     "text": [
      "7..."
     ]
    },
    {
     "name": "stdout",
     "output_type": "stream",
     "text": [
      "8..."
     ]
    },
    {
     "name": "stdout",
     "output_type": "stream",
     "text": [
      "9..."
     ]
    },
    {
     "name": "stdout",
     "output_type": "stream",
     "text": [
      "\nSimulating for Δ/2π=1\n\tκ/2π=0..."
     ]
    },
    {
     "name": "stdout",
     "output_type": "stream",
     "text": [
      "1..."
     ]
    },
    {
     "name": "stdout",
     "output_type": "stream",
     "text": [
      "2..."
     ]
    },
    {
     "name": "stdout",
     "output_type": "stream",
     "text": [
      "3..."
     ]
    },
    {
     "name": "stdout",
     "output_type": "stream",
     "text": [
      "4..."
     ]
    },
    {
     "name": "stdout",
     "output_type": "stream",
     "text": [
      "5..."
     ]
    },
    {
     "name": "stdout",
     "output_type": "stream",
     "text": [
      "6..."
     ]
    },
    {
     "name": "stdout",
     "output_type": "stream",
     "text": [
      "7..."
     ]
    },
    {
     "name": "stdout",
     "output_type": "stream",
     "text": [
      "8..."
     ]
    },
    {
     "name": "stdout",
     "output_type": "stream",
     "text": [
      "9..."
     ]
    },
    {
     "name": "stdout",
     "output_type": "stream",
     "text": [
      "\nSimulating for Δ/2π=2\n\tκ/2π=0..."
     ]
    },
    {
     "name": "stdout",
     "output_type": "stream",
     "text": [
      "1..."
     ]
    },
    {
     "name": "stdout",
     "output_type": "stream",
     "text": [
      "2..."
     ]
    },
    {
     "name": "stdout",
     "output_type": "stream",
     "text": [
      "3..."
     ]
    },
    {
     "name": "stdout",
     "output_type": "stream",
     "text": [
      "4..."
     ]
    },
    {
     "name": "stdout",
     "output_type": "stream",
     "text": [
      "5..."
     ]
    },
    {
     "name": "stdout",
     "output_type": "stream",
     "text": [
      "6..."
     ]
    },
    {
     "name": "stdout",
     "output_type": "stream",
     "text": [
      "7..."
     ]
    },
    {
     "name": "stdout",
     "output_type": "stream",
     "text": [
      "8..."
     ]
    },
    {
     "name": "stdout",
     "output_type": "stream",
     "text": [
      "9..."
     ]
    },
    {
     "name": "stdout",
     "output_type": "stream",
     "text": [
      "\nSimulating for Δ/2π=3\n\tκ/2π=0..."
     ]
    },
    {
     "name": "stdout",
     "output_type": "stream",
     "text": [
      "1..."
     ]
    },
    {
     "name": "stdout",
     "output_type": "stream",
     "text": [
      "2..."
     ]
    },
    {
     "name": "stdout",
     "output_type": "stream",
     "text": [
      "3..."
     ]
    },
    {
     "name": "stdout",
     "output_type": "stream",
     "text": [
      "4..."
     ]
    },
    {
     "name": "stdout",
     "output_type": "stream",
     "text": [
      "5..."
     ]
    },
    {
     "name": "stdout",
     "output_type": "stream",
     "text": [
      "6..."
     ]
    },
    {
     "name": "stdout",
     "output_type": "stream",
     "text": [
      "7..."
     ]
    },
    {
     "name": "stdout",
     "output_type": "stream",
     "text": [
      "8..."
     ]
    },
    {
     "name": "stdout",
     "output_type": "stream",
     "text": [
      "9..."
     ]
    },
    {
     "name": "stdout",
     "output_type": "stream",
     "text": [
      "\nSimulating for Δ/2π=4\n\tκ/2π=0..."
     ]
    },
    {
     "name": "stdout",
     "output_type": "stream",
     "text": [
      "1..."
     ]
    },
    {
     "name": "stdout",
     "output_type": "stream",
     "text": [
      "2..."
     ]
    },
    {
     "name": "stdout",
     "output_type": "stream",
     "text": [
      "3..."
     ]
    },
    {
     "name": "stdout",
     "output_type": "stream",
     "text": [
      "4..."
     ]
    },
    {
     "name": "stdout",
     "output_type": "stream",
     "text": [
      "5..."
     ]
    },
    {
     "name": "stdout",
     "output_type": "stream",
     "text": [
      "6..."
     ]
    },
    {
     "name": "stdout",
     "output_type": "stream",
     "text": [
      "7..."
     ]
    },
    {
     "name": "stdout",
     "output_type": "stream",
     "text": [
      "8..."
     ]
    },
    {
     "name": "stdout",
     "output_type": "stream",
     "text": [
      "9..."
     ]
    },
    {
     "name": "stdout",
     "output_type": "stream",
     "text": [
      "\nSimulating for Δ/2π=5\n\tκ/2π=0..."
     ]
    },
    {
     "name": "stdout",
     "output_type": "stream",
     "text": [
      "1..."
     ]
    },
    {
     "name": "stdout",
     "output_type": "stream",
     "text": [
      "2..."
     ]
    },
    {
     "name": "stdout",
     "output_type": "stream",
     "text": [
      "3..."
     ]
    },
    {
     "name": "stdout",
     "output_type": "stream",
     "text": [
      "4..."
     ]
    },
    {
     "name": "stdout",
     "output_type": "stream",
     "text": [
      "5..."
     ]
    },
    {
     "name": "stdout",
     "output_type": "stream",
     "text": [
      "6..."
     ]
    },
    {
     "name": "stdout",
     "output_type": "stream",
     "text": [
      "7..."
     ]
    },
    {
     "name": "stdout",
     "output_type": "stream",
     "text": [
      "8..."
     ]
    },
    {
     "name": "stdout",
     "output_type": "stream",
     "text": [
      "9..."
     ]
    },
    {
     "name": "stdout",
     "output_type": "stream",
     "text": [
      "\nSimulating for Δ/2π=6\n\tκ/2π=0..."
     ]
    },
    {
     "name": "stdout",
     "output_type": "stream",
     "text": [
      "1..."
     ]
    },
    {
     "name": "stdout",
     "output_type": "stream",
     "text": [
      "2..."
     ]
    },
    {
     "name": "stdout",
     "output_type": "stream",
     "text": [
      "3..."
     ]
    },
    {
     "name": "stdout",
     "output_type": "stream",
     "text": [
      "4..."
     ]
    },
    {
     "name": "stdout",
     "output_type": "stream",
     "text": [
      "5..."
     ]
    },
    {
     "name": "stdout",
     "output_type": "stream",
     "text": [
      "6..."
     ]
    },
    {
     "name": "stdout",
     "output_type": "stream",
     "text": [
      "7..."
     ]
    },
    {
     "name": "stdout",
     "output_type": "stream",
     "text": [
      "8..."
     ]
    },
    {
     "name": "stdout",
     "output_type": "stream",
     "text": [
      "9..."
     ]
    },
    {
     "name": "stdout",
     "output_type": "stream",
     "text": [
      "\nSimulating for Δ/2π=7\n\tκ/2π=0..."
     ]
    },
    {
     "name": "stdout",
     "output_type": "stream",
     "text": [
      "1..."
     ]
    },
    {
     "name": "stdout",
     "output_type": "stream",
     "text": [
      "2..."
     ]
    },
    {
     "name": "stdout",
     "output_type": "stream",
     "text": [
      "3..."
     ]
    },
    {
     "name": "stdout",
     "output_type": "stream",
     "text": [
      "4..."
     ]
    },
    {
     "name": "stdout",
     "output_type": "stream",
     "text": [
      "5..."
     ]
    },
    {
     "name": "stdout",
     "output_type": "stream",
     "text": [
      "6..."
     ]
    },
    {
     "name": "stdout",
     "output_type": "stream",
     "text": [
      "7..."
     ]
    },
    {
     "name": "stdout",
     "output_type": "stream",
     "text": [
      "8..."
     ]
    },
    {
     "name": "stdout",
     "output_type": "stream",
     "text": [
      "9..."
     ]
    },
    {
     "name": "stdout",
     "output_type": "stream",
     "text": [
      "\nSimulating for Δ/2π=8\n\tκ/2π=0..."
     ]
    },
    {
     "name": "stdout",
     "output_type": "stream",
     "text": [
      "1..."
     ]
    },
    {
     "name": "stdout",
     "output_type": "stream",
     "text": [
      "2..."
     ]
    },
    {
     "name": "stdout",
     "output_type": "stream",
     "text": [
      "3..."
     ]
    },
    {
     "name": "stdout",
     "output_type": "stream",
     "text": [
      "4..."
     ]
    },
    {
     "name": "stdout",
     "output_type": "stream",
     "text": [
      "5..."
     ]
    },
    {
     "name": "stdout",
     "output_type": "stream",
     "text": [
      "6..."
     ]
    },
    {
     "name": "stdout",
     "output_type": "stream",
     "text": [
      "7..."
     ]
    },
    {
     "name": "stdout",
     "output_type": "stream",
     "text": [
      "8..."
     ]
    },
    {
     "name": "stdout",
     "output_type": "stream",
     "text": [
      "9..."
     ]
    },
    {
     "name": "stdout",
     "output_type": "stream",
     "text": [
      "\nSimulating for Δ/2π=9\n\tκ/2π=0..."
     ]
    },
    {
     "name": "stdout",
     "output_type": "stream",
     "text": [
      "1..."
     ]
    },
    {
     "name": "stdout",
     "output_type": "stream",
     "text": [
      "2..."
     ]
    },
    {
     "name": "stdout",
     "output_type": "stream",
     "text": [
      "3..."
     ]
    },
    {
     "name": "stdout",
     "output_type": "stream",
     "text": [
      "4..."
     ]
    },
    {
     "name": "stdout",
     "output_type": "stream",
     "text": [
      "5..."
     ]
    },
    {
     "name": "stdout",
     "output_type": "stream",
     "text": [
      "6..."
     ]
    },
    {
     "name": "stdout",
     "output_type": "stream",
     "text": [
      "7..."
     ]
    },
    {
     "name": "stdout",
     "output_type": "stream",
     "text": [
      "8..."
     ]
    },
    {
     "name": "stdout",
     "output_type": "stream",
     "text": [
      "9..."
     ]
    },
    {
     "name": "stdout",
     "output_type": "stream",
     "text": [
      "\ndone.\n"
     ]
    }
   ],
   "source": [
    "psi0 = ['x',0,0]\n",
    "t_length = 1\n",
    "n_steps = 501\n",
    "\n",
    "sp_em, n_ph = {},{}\n",
    "\n",
    "deltaPs = np.arange(0,10,1)\n",
    "kappas = np.arange(0,10,1)\n",
    "\n",
    "for deltaP in deltaPs:\n",
    "    print('\\nSimulating for {0}/2{1}={2}'.format(Delta_str, pi_str, deltaP),end='\\n\\t')\n",
    "    sp_em_temp, n_ph_temp = [], []\n",
    "    print('{0}/2{1}='.format(kappa_str, pi_str), end='')\n",
    "    for kappa in kappas:\n",
    "        print(kappa, end='...')\n",
    "        \n",
    "        cav.kappa1 = kappa * 2 * np.pi\n",
    "        cav.kappa2 = kappa * 2 * np.pi\n",
    "        cav.deltaP = deltaP * 2 * np.pi\n",
    "        \n",
    "        runner = ExperimentalRunner(atom4lvl,cav,[],cavity_coupling,\n",
    "                                    verbose=False, reconfigurable_decay_rates=True)\n",
    "        results = runner.run(psi0, t_length, n_steps)\n",
    "        \n",
    "        sp_em_temp.append(results.get_total_spontaneous_emission())\n",
    "        n_ph_temp.append(sum(results.get_total_cavity_emission(results.compiled_hamiltonian.atom.R_AL)))\n",
    "        \n",
    "    sp_em[deltaP] = [kappas, np.array(sp_em_temp)]\n",
    "    n_ph[deltaP] = [kappas, np.array(n_ph_temp)]\n",
    "print('\\ndone.')"
   ]
  },
  {
   "cell_type": "code",
   "execution_count": 82,
   "metadata": {},
   "outputs": [],
   "source": [
    "def plot(deltaP=0):\n",
    "        \n",
    "    f, ((ax1,ax2)) = plt.subplots(2, 1, sharex=True, figsize=(8, 6))\n",
    "    \n",
    "    kappas, sp_0 = sp_em[0]\n",
    "    kappas, n_0 = n_ph[0]\n",
    "    \n",
    "    l_sp, = ax1.plot(kappas, sp_0,  '--')\n",
    "    l_n, =  ax1.plot(kappas, n_0,  '--')\n",
    "    ax1.legend()\n",
    "    \n",
    "    kappas, sp = sp_em[deltaP]\n",
    "    kappas, n = n_ph[deltaP]\n",
    "    \n",
    "    ax1.plot(kappas, sp, color=l_sp.get_color(), label = \"Spont. emm.\")\n",
    "    ax1.plot(kappas, n, color=l_n.get_color(), label = \"Cav. emm.\")\n",
    "    ax1.legend()\n",
    "    \n",
    "    l_FP, = ax2.plot(kappas, [n/(s+n) for s,n in zip(sp_0, n_0)], '--')\n",
    "    ax2.plot(kappas, [n/(s+n) for s,n in zip(sp, n)], color=l_FP.get_color(), label = \"Eff FP\")\n",
    "    ax2.plot(kappas, [2*g**2/(2*kappa*gamma) for kappa in [k*2*np.pi for k in kappas]], label = \"2C\")\n",
    "    ax2.set_ylim([0,1])\n",
    "    ax2.legend()\n",
    "    \n",
    "    ax2.set_xlabel('$\\kappa/2\\pi$')\n",
    "        \n",
    "    ax1.set_title('$\\Delta_P/2\\pi={}MHz$'.format(deltaP))"
   ]
  },
  {
   "cell_type": "code",
   "execution_count": 93,
   "metadata": {},
   "outputs": [
    {
     "name": "stderr",
     "output_type": "stream",
     "text": [
      "/anaconda3/envs/rb-cqed-env/lib/python3.6/site-packages/matplotlib/axes/_axes.py:545: UserWarning: No labelled objects found. Use label='...' kwarg on individual plots.\n  warnings.warn(\"No labelled objects found. \"\n/anaconda3/envs/rb-cqed-env/lib/python3.6/site-packages/ipykernel_launcher.py:21: RuntimeWarning: divide by zero encountered in double_scalars\n"
     ]
    },
    {
     "data": {
      "image/png": "[encoded data removed]",
      "text/plain": [
       "<matplotlib.figure.Figure at 0x14b0577b8>"
      ]
     },
     "metadata": {},
     "output_type": "display_data"
    }
   ],
   "source": [
    "i=3\n",
    "plot(deltaPs[i])"
   ]
  },
  {
   "cell_type": "markdown",
   "metadata": {},
   "source": [
    "##### Initial observations\n",
    "\n",
    "* There appears to be an optimum rate of cavity decay for photon extraction from an excited atom, even in the absence of birefringence.  Is this a trade-off between the field in the cavity building up and therefore stimualting more emission into the mode, vs the probability of the photon being reabsorbed prior to emission fro the cavity mode?\n",
    "* We can do better with a birefringent cavity, both reaching higher peak extraction efficiencies and (importantly) reaching these peaks at lower cavity decay rates (which practically would allow more reflective mirrors and so stronger atom-cavity coupling)."
   ]
  },
  {
   "cell_type": "markdown",
   "metadata": {},
   "source": [
    "#### Micron-scale cavities - $g/2\\pi = 30$MHz"
   ]
  },
  {
   "cell_type": "code",
   "execution_count": 6,
   "metadata": {},
   "outputs": [],
   "source": [
    "g, gamma = [x*2*np.pi for x  in [30,3]]\n",
    "\n",
    "atom4lvl = Atom4lvl(gamma=gamma, configured_states=['x','gP'])\n",
    "\n",
    "cav = CavityBiref(g=g, kappa1=0, kappa2=0, R_CL=[[1,0],[0,1]], deltaP=0)\n",
    "\n",
    "cavity_coupling = CavityCoupling(g0=cav.g,\n",
    "                                 g='gP', x='x',\n",
    "                                 deltaC = 0 * 2*np.pi,\n",
    "                                 deltaM=[1,-1],\n",
    "                                 couple_off_resonance=False)"
   ]
  },
  {
   "cell_type": "code",
   "execution_count": 103,
   "metadata": {},
   "outputs": [
    {
     "name": "stdout",
     "output_type": "stream",
     "text": [
      "\nSimulating for ΔP/2π=0\n\tκ/2π=0..."
     ]
    },
    {
     "name": "stdout",
     "output_type": "stream",
     "text": [
      "5...10..."
     ]
    },
    {
     "name": "stdout",
     "output_type": "stream",
     "text": [
      "15..."
     ]
    },
    {
     "name": "stdout",
     "output_type": "stream",
     "text": [
      "20..."
     ]
    },
    {
     "name": "stdout",
     "output_type": "stream",
     "text": [
      "25...30..."
     ]
    },
    {
     "name": "stdout",
     "output_type": "stream",
     "text": [
      "35..."
     ]
    },
    {
     "name": "stdout",
     "output_type": "stream",
     "text": [
      "40..."
     ]
    },
    {
     "name": "stdout",
     "output_type": "stream",
     "text": [
      "45..."
     ]
    },
    {
     "name": "stdout",
     "output_type": "stream",
     "text": [
      "50..."
     ]
    },
    {
     "name": "stdout",
     "output_type": "stream",
     "text": [
      "55..."
     ]
    },
    {
     "name": "stdout",
     "output_type": "stream",
     "text": [
      "60..."
     ]
    },
    {
     "name": "stdout",
     "output_type": "stream",
     "text": [
      "65..."
     ]
    },
    {
     "name": "stdout",
     "output_type": "stream",
     "text": [
      "70..."
     ]
    },
    {
     "name": "stdout",
     "output_type": "stream",
     "text": [
      "75..."
     ]
    },
    {
     "name": "stdout",
     "output_type": "stream",
     "text": [
      "80..."
     ]
    },
    {
     "name": "stdout",
     "output_type": "stream",
     "text": [
      "85..."
     ]
    },
    {
     "name": "stdout",
     "output_type": "stream",
     "text": [
      "90..."
     ]
    },
    {
     "name": "stdout",
     "output_type": "stream",
     "text": [
      "95..."
     ]
    },
    {
     "name": "stdout",
     "output_type": "stream",
     "text": [
      "\nSimulating for ΔP/2π=5\n\tκ/2π=0..."
     ]
    },
    {
     "name": "stdout",
     "output_type": "stream",
     "text": [
      "5..."
     ]
    },
    {
     "name": "stdout",
     "output_type": "stream",
     "text": [
      "10..."
     ]
    },
    {
     "name": "stdout",
     "output_type": "stream",
     "text": [
      "15...20..."
     ]
    },
    {
     "name": "stdout",
     "output_type": "stream",
     "text": [
      "25...30..."
     ]
    },
    {
     "name": "stdout",
     "output_type": "stream",
     "text": [
      "35...40..."
     ]
    },
    {
     "name": "stdout",
     "output_type": "stream",
     "text": [
      "45..."
     ]
    },
    {
     "name": "stdout",
     "output_type": "stream",
     "text": [
      "50..."
     ]
    },
    {
     "name": "stdout",
     "output_type": "stream",
     "text": [
      "55..."
     ]
    },
    {
     "name": "stdout",
     "output_type": "stream",
     "text": [
      "60..."
     ]
    },
    {
     "name": "stdout",
     "output_type": "stream",
     "text": [
      "65..."
     ]
    },
    {
     "name": "stdout",
     "output_type": "stream",
     "text": [
      "70..."
     ]
    },
    {
     "name": "stdout",
     "output_type": "stream",
     "text": [
      "75..."
     ]
    },
    {
     "name": "stdout",
     "output_type": "stream",
     "text": [
      "80..."
     ]
    },
    {
     "name": "stdout",
     "output_type": "stream",
     "text": [
      "85..."
     ]
    },
    {
     "name": "stdout",
     "output_type": "stream",
     "text": [
      "90..."
     ]
    },
    {
     "name": "stdout",
     "output_type": "stream",
     "text": [
      "95..."
     ]
    },
    {
     "name": "stdout",
     "output_type": "stream",
     "text": [
      "\nSimulating for ΔP/2π=10\n\tκ/2π=0..."
     ]
    },
    {
     "name": "stdout",
     "output_type": "stream",
     "text": [
      "5..."
     ]
    },
    {
     "name": "stdout",
     "output_type": "stream",
     "text": [
      "10..."
     ]
    },
    {
     "name": "stdout",
     "output_type": "stream",
     "text": [
      "15..."
     ]
    },
    {
     "name": "stdout",
     "output_type": "stream",
     "text": [
      "20...25"
     ]
    },
    {
     "name": "stdout",
     "output_type": "stream",
     "text": [
      "...30...35"
     ]
    },
    {
     "name": "stdout",
     "output_type": "stream",
     "text": [
      "...40..."
     ]
    },
    {
     "name": "stdout",
     "output_type": "stream",
     "text": [
      "45..."
     ]
    },
    {
     "name": "stdout",
     "output_type": "stream",
     "text": [
      "50..."
     ]
    },
    {
     "name": "stdout",
     "output_type": "stream",
     "text": [
      "55..."
     ]
    },
    {
     "name": "stdout",
     "output_type": "stream",
     "text": [
      "60..."
     ]
    },
    {
     "name": "stdout",
     "output_type": "stream",
     "text": [
      "65..."
     ]
    },
    {
     "name": "stdout",
     "output_type": "stream",
     "text": [
      "70..."
     ]
    },
    {
     "name": "stdout",
     "output_type": "stream",
     "text": [
      "75..."
     ]
    },
    {
     "name": "stdout",
     "output_type": "stream",
     "text": [
      "80..."
     ]
    },
    {
     "name": "stdout",
     "output_type": "stream",
     "text": [
      "85..."
     ]
    },
    {
     "name": "stdout",
     "output_type": "stream",
     "text": [
      "90..."
     ]
    },
    {
     "name": "stdout",
     "output_type": "stream",
     "text": [
      "95..."
     ]
    },
    {
     "name": "stdout",
     "output_type": "stream",
     "text": [
      "\nSimulating for ΔP/2π=15\n\tκ/2π=0..."
     ]
    },
    {
     "name": "stdout",
     "output_type": "stream",
     "text": [
      "5..."
     ]
    },
    {
     "name": "stdout",
     "output_type": "stream",
     "text": [
      "10..."
     ]
    },
    {
     "name": "stdout",
     "output_type": "stream",
     "text": [
      "15..."
     ]
    },
    {
     "name": "stdout",
     "output_type": "stream",
     "text": [
      "20..."
     ]
    },
    {
     "name": "stdout",
     "output_type": "stream",
     "text": [
      "25..."
     ]
    },
    {
     "name": "stdout",
     "output_type": "stream",
     "text": [
      "30...35..."
     ]
    },
    {
     "name": "stdout",
     "output_type": "stream",
     "text": [
      "40..."
     ]
    },
    {
     "name": "stdout",
     "output_type": "stream",
     "text": [
      "45..."
     ]
    },
    {
     "name": "stdout",
     "output_type": "stream",
     "text": [
      "50..."
     ]
    },
    {
     "name": "stdout",
     "output_type": "stream",
     "text": [
      "55..."
     ]
    },
    {
     "name": "stdout",
     "output_type": "stream",
     "text": [
      "60..."
     ]
    },
    {
     "name": "stdout",
     "output_type": "stream",
     "text": [
      "65..."
     ]
    },
    {
     "name": "stdout",
     "output_type": "stream",
     "text": [
      "70..."
     ]
    },
    {
     "name": "stdout",
     "output_type": "stream",
     "text": [
      "75..."
     ]
    },
    {
     "name": "stdout",
     "output_type": "stream",
     "text": [
      "80..."
     ]
    },
    {
     "name": "stdout",
     "output_type": "stream",
     "text": [
      "85..."
     ]
    },
    {
     "name": "stdout",
     "output_type": "stream",
     "text": [
      "90..."
     ]
    },
    {
     "name": "stdout",
     "output_type": "stream",
     "text": [
      "95..."
     ]
    },
    {
     "name": "stdout",
     "output_type": "stream",
     "text": [
      "\nSimulating for ΔP/2π=20\n\tκ/2π=0..."
     ]
    },
    {
     "name": "stdout",
     "output_type": "stream",
     "text": [
      "5..."
     ]
    },
    {
     "name": "stdout",
     "output_type": "stream",
     "text": [
      "10...15..."
     ]
    },
    {
     "name": "stdout",
     "output_type": "stream",
     "text": [
      "20..."
     ]
    },
    {
     "name": "stdout",
     "output_type": "stream",
     "text": [
      "25...30"
     ]
    },
    {
     "name": "stdout",
     "output_type": "stream",
     "text": [
      "...35..."
     ]
    },
    {
     "name": "stdout",
     "output_type": "stream",
     "text": [
      "40..."
     ]
    },
    {
     "name": "stdout",
     "output_type": "stream",
     "text": [
      "45..."
     ]
    },
    {
     "name": "stdout",
     "output_type": "stream",
     "text": [
      "50..."
     ]
    },
    {
     "name": "stdout",
     "output_type": "stream",
     "text": [
      "55..."
     ]
    },
    {
     "name": "stdout",
     "output_type": "stream",
     "text": [
      "60..."
     ]
    },
    {
     "name": "stdout",
     "output_type": "stream",
     "text": [
      "65..."
     ]
    },
    {
     "name": "stdout",
     "output_type": "stream",
     "text": [
      "70..."
     ]
    },
    {
     "name": "stdout",
     "output_type": "stream",
     "text": [
      "75..."
     ]
    },
    {
     "name": "stdout",
     "output_type": "stream",
     "text": [
      "80..."
     ]
    },
    {
     "name": "stdout",
     "output_type": "stream",
     "text": [
      "85..."
     ]
    },
    {
     "name": "stdout",
     "output_type": "stream",
     "text": [
      "90..."
     ]
    },
    {
     "name": "stdout",
     "output_type": "stream",
     "text": [
      "95..."
     ]
    },
    {
     "name": "stdout",
     "output_type": "stream",
     "text": [
      "\nSimulating for ΔP/2π=25\n\tκ/2π=0..."
     ]
    },
    {
     "name": "stdout",
     "output_type": "stream",
     "text": [
      "5..."
     ]
    },
    {
     "name": "stdout",
     "output_type": "stream",
     "text": [
      "10..."
     ]
    },
    {
     "name": "stdout",
     "output_type": "stream",
     "text": [
      "15..."
     ]
    },
    {
     "name": "stdout",
     "output_type": "stream",
     "text": [
      "20..."
     ]
    },
    {
     "name": "stdout",
     "output_type": "stream",
     "text": [
      "25..."
     ]
    },
    {
     "name": "stdout",
     "output_type": "stream",
     "text": [
      "30...35..."
     ]
    },
    {
     "name": "stdout",
     "output_type": "stream",
     "text": [
      "40..."
     ]
    },
    {
     "name": "stdout",
     "output_type": "stream",
     "text": [
      "45..."
     ]
    },
    {
     "name": "stdout",
     "output_type": "stream",
     "text": [
      "50..."
     ]
    },
    {
     "name": "stdout",
     "output_type": "stream",
     "text": [
      "55..."
     ]
    },
    {
     "name": "stdout",
     "output_type": "stream",
     "text": [
      "60..."
     ]
    },
    {
     "name": "stdout",
     "output_type": "stream",
     "text": [
      "65..."
     ]
    },
    {
     "name": "stdout",
     "output_type": "stream",
     "text": [
      "70..."
     ]
    },
    {
     "name": "stdout",
     "output_type": "stream",
     "text": [
      "75..."
     ]
    },
    {
     "name": "stdout",
     "output_type": "stream",
     "text": [
      "80..."
     ]
    },
    {
     "name": "stdout",
     "output_type": "stream",
     "text": [
      "85..."
     ]
    },
    {
     "name": "stdout",
     "output_type": "stream",
     "text": [
      "90..."
     ]
    },
    {
     "name": "stdout",
     "output_type": "stream",
     "text": [
      "95..."
     ]
    },
    {
     "name": "stdout",
     "output_type": "stream",
     "text": [
      "\nSimulating for ΔP/2π=30\n\tκ/2π=0..."
     ]
    },
    {
     "name": "stdout",
     "output_type": "stream",
     "text": [
      "5..."
     ]
    },
    {
     "name": "stdout",
     "output_type": "stream",
     "text": [
      "10..."
     ]
    },
    {
     "name": "stdout",
     "output_type": "stream",
     "text": [
      "15..."
     ]
    },
    {
     "name": "stdout",
     "output_type": "stream",
     "text": [
      "20..."
     ]
    },
    {
     "name": "stdout",
     "output_type": "stream",
     "text": [
      "25..."
     ]
    },
    {
     "name": "stdout",
     "output_type": "stream",
     "text": [
      "30..."
     ]
    },
    {
     "name": "stdout",
     "output_type": "stream",
     "text": [
      "35..."
     ]
    },
    {
     "name": "stdout",
     "output_type": "stream",
     "text": [
      "40..."
     ]
    },
    {
     "name": "stdout",
     "output_type": "stream",
     "text": [
      "45..."
     ]
    },
    {
     "name": "stdout",
     "output_type": "stream",
     "text": [
      "50..."
     ]
    },
    {
     "name": "stdout",
     "output_type": "stream",
     "text": [
      "55..."
     ]
    },
    {
     "name": "stdout",
     "output_type": "stream",
     "text": [
      "60..."
     ]
    },
    {
     "name": "stdout",
     "output_type": "stream",
     "text": [
      "65..."
     ]
    },
    {
     "name": "stdout",
     "output_type": "stream",
     "text": [
      "70..."
     ]
    },
    {
     "name": "stdout",
     "output_type": "stream",
     "text": [
      "75..."
     ]
    },
    {
     "name": "stdout",
     "output_type": "stream",
     "text": [
      "80..."
     ]
    },
    {
     "name": "stdout",
     "output_type": "stream",
     "text": [
      "85..."
     ]
    },
    {
     "name": "stdout",
     "output_type": "stream",
     "text": [
      "90..."
     ]
    },
    {
     "name": "stdout",
     "output_type": "stream",
     "text": [
      "95..."
     ]
    },
    {
     "name": "stdout",
     "output_type": "stream",
     "text": [
      "\nSimulating for ΔP/2π=35\n\tκ/2π=0..."
     ]
    },
    {
     "name": "stdout",
     "output_type": "stream",
     "text": [
      "5..."
     ]
    },
    {
     "name": "stdout",
     "output_type": "stream",
     "text": [
      "10..."
     ]
    },
    {
     "name": "stdout",
     "output_type": "stream",
     "text": [
      "15..."
     ]
    },
    {
     "name": "stdout",
     "output_type": "stream",
     "text": [
      "20...25..."
     ]
    },
    {
     "name": "stdout",
     "output_type": "stream",
     "text": [
      "30...35"
     ]
    },
    {
     "name": "stdout",
     "output_type": "stream",
     "text": [
      "...40..."
     ]
    },
    {
     "name": "stdout",
     "output_type": "stream",
     "text": [
      "45..."
     ]
    },
    {
     "name": "stdout",
     "output_type": "stream",
     "text": [
      "50..."
     ]
    },
    {
     "name": "stdout",
     "output_type": "stream",
     "text": [
      "55..."
     ]
    },
    {
     "name": "stdout",
     "output_type": "stream",
     "text": [
      "60..."
     ]
    },
    {
     "name": "stdout",
     "output_type": "stream",
     "text": [
      "65..."
     ]
    },
    {
     "name": "stdout",
     "output_type": "stream",
     "text": [
      "70..."
     ]
    },
    {
     "name": "stdout",
     "output_type": "stream",
     "text": [
      "75..."
     ]
    },
    {
     "name": "stdout",
     "output_type": "stream",
     "text": [
      "80..."
     ]
    },
    {
     "name": "stdout",
     "output_type": "stream",
     "text": [
      "85..."
     ]
    },
    {
     "name": "stdout",
     "output_type": "stream",
     "text": [
      "90..."
     ]
    },
    {
     "name": "stdout",
     "output_type": "stream",
     "text": [
      "95..."
     ]
    },
    {
     "name": "stdout",
     "output_type": "stream",
     "text": [
      "\nSimulating for ΔP/2π=40\n\tκ/2π=0..."
     ]
    },
    {
     "name": "stdout",
     "output_type": "stream",
     "text": [
      "5..."
     ]
    },
    {
     "name": "stdout",
     "output_type": "stream",
     "text": [
      "10..."
     ]
    },
    {
     "name": "stdout",
     "output_type": "stream",
     "text": [
      "15..."
     ]
    },
    {
     "name": "stdout",
     "output_type": "stream",
     "text": [
      "20...25"
     ]
    },
    {
     "name": "stdout",
     "output_type": "stream",
     "text": [
      "...30..."
     ]
    },
    {
     "name": "stdout",
     "output_type": "stream",
     "text": [
      "35..."
     ]
    },
    {
     "name": "stdout",
     "output_type": "stream",
     "text": [
      "40..."
     ]
    },
    {
     "name": "stdout",
     "output_type": "stream",
     "text": [
      "45..."
     ]
    },
    {
     "name": "stdout",
     "output_type": "stream",
     "text": [
      "50..."
     ]
    },
    {
     "name": "stdout",
     "output_type": "stream",
     "text": [
      "55..."
     ]
    },
    {
     "name": "stdout",
     "output_type": "stream",
     "text": [
      "60..."
     ]
    },
    {
     "name": "stdout",
     "output_type": "stream",
     "text": [
      "65..."
     ]
    },
    {
     "name": "stdout",
     "output_type": "stream",
     "text": [
      "70..."
     ]
    },
    {
     "name": "stdout",
     "output_type": "stream",
     "text": [
      "75..."
     ]
    },
    {
     "name": "stdout",
     "output_type": "stream",
     "text": [
      "80..."
     ]
    },
    {
     "name": "stdout",
     "output_type": "stream",
     "text": [
      "85..."
     ]
    },
    {
     "name": "stdout",
     "output_type": "stream",
     "text": [
      "90..."
     ]
    },
    {
     "name": "stdout",
     "output_type": "stream",
     "text": [
      "95..."
     ]
    },
    {
     "name": "stdout",
     "output_type": "stream",
     "text": [
      "\nSimulating for ΔP/2π=45\n\tκ/2π=0..."
     ]
    },
    {
     "name": "stdout",
     "output_type": "stream",
     "text": [
      "5..."
     ]
    },
    {
     "name": "stdout",
     "output_type": "stream",
     "text": [
      "10..."
     ]
    },
    {
     "name": "stdout",
     "output_type": "stream",
     "text": [
      "15..."
     ]
    },
    {
     "name": "stdout",
     "output_type": "stream",
     "text": [
      "20...25..."
     ]
    },
    {
     "name": "stdout",
     "output_type": "stream",
     "text": [
      "30..."
     ]
    },
    {
     "name": "stdout",
     "output_type": "stream",
     "text": [
      "35..."
     ]
    },
    {
     "name": "stdout",
     "output_type": "stream",
     "text": [
      "40..."
     ]
    },
    {
     "name": "stdout",
     "output_type": "stream",
     "text": [
      "45..."
     ]
    },
    {
     "name": "stdout",
     "output_type": "stream",
     "text": [
      "50..."
     ]
    },
    {
     "name": "stdout",
     "output_type": "stream",
     "text": [
      "55..."
     ]
    },
    {
     "name": "stdout",
     "output_type": "stream",
     "text": [
      "60..."
     ]
    },
    {
     "name": "stdout",
     "output_type": "stream",
     "text": [
      "65..."
     ]
    },
    {
     "name": "stdout",
     "output_type": "stream",
     "text": [
      "70..."
     ]
    },
    {
     "name": "stdout",
     "output_type": "stream",
     "text": [
      "75..."
     ]
    },
    {
     "name": "stdout",
     "output_type": "stream",
     "text": [
      "80..."
     ]
    },
    {
     "name": "stdout",
     "output_type": "stream",
     "text": [
      "85..."
     ]
    },
    {
     "name": "stdout",
     "output_type": "stream",
     "text": [
      "90..."
     ]
    },
    {
     "name": "stdout",
     "output_type": "stream",
     "text": [
      "95..."
     ]
    },
    {
     "name": "stdout",
     "output_type": "stream",
     "text": [
      "\nSimulating for ΔP/2π=50\n\tκ/2π=0..."
     ]
    },
    {
     "name": "stdout",
     "output_type": "stream",
     "text": [
      "5..."
     ]
    },
    {
     "name": "stdout",
     "output_type": "stream",
     "text": [
      "10..."
     ]
    },
    {
     "name": "stdout",
     "output_type": "stream",
     "text": [
      "15..."
     ]
    },
    {
     "name": "stdout",
     "output_type": "stream",
     "text": [
      "20..."
     ]
    },
    {
     "name": "stdout",
     "output_type": "stream",
     "text": [
      "25..."
     ]
    },
    {
     "name": "stdout",
     "output_type": "stream",
     "text": [
      "30..."
     ]
    },
    {
     "name": "stdout",
     "output_type": "stream",
     "text": [
      "35..."
     ]
    },
    {
     "name": "stdout",
     "output_type": "stream",
     "text": [
      "40..."
     ]
    },
    {
     "name": "stdout",
     "output_type": "stream",
     "text": [
      "45..."
     ]
    },
    {
     "name": "stdout",
     "output_type": "stream",
     "text": [
      "50..."
     ]
    },
    {
     "name": "stdout",
     "output_type": "stream",
     "text": [
      "55..."
     ]
    },
    {
     "name": "stdout",
     "output_type": "stream",
     "text": [
      "60..."
     ]
    },
    {
     "name": "stdout",
     "output_type": "stream",
     "text": [
      "65..."
     ]
    },
    {
     "name": "stdout",
     "output_type": "stream",
     "text": [
      "70..."
     ]
    },
    {
     "name": "stdout",
     "output_type": "stream",
     "text": [
      "75..."
     ]
    },
    {
     "name": "stdout",
     "output_type": "stream",
     "text": [
      "80..."
     ]
    },
    {
     "name": "stdout",
     "output_type": "stream",
     "text": [
      "85..."
     ]
    },
    {
     "name": "stdout",
     "output_type": "stream",
     "text": [
      "90..."
     ]
    },
    {
     "name": "stdout",
     "output_type": "stream",
     "text": [
      "95..."
     ]
    },
    {
     "name": "stdout",
     "output_type": "stream",
     "text": [
      "\nSimulating for ΔP/2π=55\n\tκ/2π=0..."
     ]
    },
    {
     "name": "stdout",
     "output_type": "stream",
     "text": [
      "5..."
     ]
    },
    {
     "name": "stdout",
     "output_type": "stream",
     "text": [
      "10..."
     ]
    },
    {
     "name": "stdout",
     "output_type": "stream",
     "text": [
      "15..."
     ]
    },
    {
     "name": "stdout",
     "output_type": "stream",
     "text": [
      "20..."
     ]
    },
    {
     "name": "stdout",
     "output_type": "stream",
     "text": [
      "25..."
     ]
    },
    {
     "name": "stdout",
     "output_type": "stream",
     "text": [
      "30..."
     ]
    },
    {
     "name": "stdout",
     "output_type": "stream",
     "text": [
      "35..."
     ]
    },
    {
     "name": "stdout",
     "output_type": "stream",
     "text": [
      "40..."
     ]
    },
    {
     "name": "stdout",
     "output_type": "stream",
     "text": [
      "45..."
     ]
    },
    {
     "name": "stdout",
     "output_type": "stream",
     "text": [
      "50..."
     ]
    },
    {
     "name": "stdout",
     "output_type": "stream",
     "text": [
      "55..."
     ]
    },
    {
     "name": "stdout",
     "output_type": "stream",
     "text": [
      "60..."
     ]
    },
    {
     "name": "stdout",
     "output_type": "stream",
     "text": [
      "65..."
     ]
    },
    {
     "name": "stdout",
     "output_type": "stream",
     "text": [
      "70..."
     ]
    },
    {
     "name": "stdout",
     "output_type": "stream",
     "text": [
      "75..."
     ]
    },
    {
     "name": "stdout",
     "output_type": "stream",
     "text": [
      "80..."
     ]
    },
    {
     "name": "stdout",
     "output_type": "stream",
     "text": [
      "85..."
     ]
    },
    {
     "name": "stdout",
     "output_type": "stream",
     "text": [
      "90..."
     ]
    },
    {
     "name": "stdout",
     "output_type": "stream",
     "text": [
      "95..."
     ]
    },
    {
     "name": "stdout",
     "output_type": "stream",
     "text": [
      "\nSimulating for ΔP/2π=60\n\tκ/2π=0..."
     ]
    },
    {
     "name": "stdout",
     "output_type": "stream",
     "text": [
      "5..."
     ]
    },
    {
     "name": "stdout",
     "output_type": "stream",
     "text": [
      "10..."
     ]
    },
    {
     "name": "stdout",
     "output_type": "stream",
     "text": [
      "15..."
     ]
    },
    {
     "name": "stdout",
     "output_type": "stream",
     "text": [
      "20..."
     ]
    },
    {
     "name": "stdout",
     "output_type": "stream",
     "text": [
      "25..."
     ]
    },
    {
     "name": "stdout",
     "output_type": "stream",
     "text": [
      "30..."
     ]
    },
    {
     "name": "stdout",
     "output_type": "stream",
     "text": [
      "35..."
     ]
    },
    {
     "name": "stdout",
     "output_type": "stream",
     "text": [
      "40..."
     ]
    },
    {
     "name": "stdout",
     "output_type": "stream",
     "text": [
      "45..."
     ]
    },
    {
     "name": "stdout",
     "output_type": "stream",
     "text": [
      "50..."
     ]
    },
    {
     "name": "stdout",
     "output_type": "stream",
     "text": [
      "55..."
     ]
    },
    {
     "name": "stdout",
     "output_type": "stream",
     "text": [
      "60..."
     ]
    },
    {
     "name": "stdout",
     "output_type": "stream",
     "text": [
      "65..."
     ]
    },
    {
     "name": "stdout",
     "output_type": "stream",
     "text": [
      "70..."
     ]
    },
    {
     "name": "stdout",
     "output_type": "stream",
     "text": [
      "75..."
     ]
    },
    {
     "name": "stdout",
     "output_type": "stream",
     "text": [
      "80..."
     ]
    },
    {
     "name": "stdout",
     "output_type": "stream",
     "text": [
      "85..."
     ]
    },
    {
     "name": "stdout",
     "output_type": "stream",
     "text": [
      "90..."
     ]
    },
    {
     "name": "stdout",
     "output_type": "stream",
     "text": [
      "95..."
     ]
    },
    {
     "name": "stdout",
     "output_type": "stream",
     "text": [
      "\nSimulating for ΔP/2π=65\n\tκ/2π=0..."
     ]
    },
    {
     "name": "stdout",
     "output_type": "stream",
     "text": [
      "5..."
     ]
    },
    {
     "name": "stdout",
     "output_type": "stream",
     "text": [
      "10..."
     ]
    },
    {
     "name": "stdout",
     "output_type": "stream",
     "text": [
      "15..."
     ]
    },
    {
     "name": "stdout",
     "output_type": "stream",
     "text": [
      "20..."
     ]
    },
    {
     "name": "stdout",
     "output_type": "stream",
     "text": [
      "25..."
     ]
    },
    {
     "name": "stdout",
     "output_type": "stream",
     "text": [
      "30..."
     ]
    },
    {
     "name": "stdout",
     "output_type": "stream",
     "text": [
      "35..."
     ]
    },
    {
     "name": "stdout",
     "output_type": "stream",
     "text": [
      "40..."
     ]
    },
    {
     "name": "stdout",
     "output_type": "stream",
     "text": [
      "45..."
     ]
    },
    {
     "name": "stdout",
     "output_type": "stream",
     "text": [
      "50..."
     ]
    },
    {
     "name": "stdout",
     "output_type": "stream",
     "text": [
      "55..."
     ]
    },
    {
     "name": "stdout",
     "output_type": "stream",
     "text": [
      "60..."
     ]
    },
    {
     "name": "stdout",
     "output_type": "stream",
     "text": [
      "65..."
     ]
    },
    {
     "name": "stdout",
     "output_type": "stream",
     "text": [
      "70..."
     ]
    },
    {
     "name": "stdout",
     "output_type": "stream",
     "text": [
      "75..."
     ]
    },
    {
     "name": "stdout",
     "output_type": "stream",
     "text": [
      "80..."
     ]
    },
    {
     "name": "stdout",
     "output_type": "stream",
     "text": [
      "85..."
     ]
    },
    {
     "name": "stdout",
     "output_type": "stream",
     "text": [
      "90..."
     ]
    },
    {
     "name": "stdout",
     "output_type": "stream",
     "text": [
      "95..."
     ]
    },
    {
     "name": "stdout",
     "output_type": "stream",
     "text": [
      "\nSimulating for ΔP/2π=70\n\tκ/2π=0..."
     ]
    },
    {
     "name": "stdout",
     "output_type": "stream",
     "text": [
      "5..."
     ]
    },
    {
     "name": "stdout",
     "output_type": "stream",
     "text": [
      "10..."
     ]
    },
    {
     "name": "stdout",
     "output_type": "stream",
     "text": [
      "15..."
     ]
    },
    {
     "name": "stdout",
     "output_type": "stream",
     "text": [
      "20..."
     ]
    },
    {
     "name": "stdout",
     "output_type": "stream",
     "text": [
      "25..."
     ]
    },
    {
     "name": "stdout",
     "output_type": "stream",
     "text": [
      "30..."
     ]
    },
    {
     "name": "stdout",
     "output_type": "stream",
     "text": [
      "35..."
     ]
    },
    {
     "name": "stdout",
     "output_type": "stream",
     "text": [
      "40..."
     ]
    },
    {
     "name": "stdout",
     "output_type": "stream",
     "text": [
      "45..."
     ]
    },
    {
     "name": "stdout",
     "output_type": "stream",
     "text": [
      "50..."
     ]
    },
    {
     "name": "stdout",
     "output_type": "stream",
     "text": [
      "55..."
     ]
    },
    {
     "name": "stdout",
     "output_type": "stream",
     "text": [
      "60..."
     ]
    },
    {
     "name": "stdout",
     "output_type": "stream",
     "text": [
      "65..."
     ]
    },
    {
     "name": "stdout",
     "output_type": "stream",
     "text": [
      "70..."
     ]
    },
    {
     "name": "stdout",
     "output_type": "stream",
     "text": [
      "75..."
     ]
    },
    {
     "name": "stdout",
     "output_type": "stream",
     "text": [
      "80..."
     ]
    },
    {
     "name": "stdout",
     "output_type": "stream",
     "text": [
      "85..."
     ]
    },
    {
     "name": "stdout",
     "output_type": "stream",
     "text": [
      "90..."
     ]
    },
    {
     "name": "stdout",
     "output_type": "stream",
     "text": [
      "95..."
     ]
    },
    {
     "name": "stdout",
     "output_type": "stream",
     "text": [
      "\nSimulating for ΔP/2π=75\n\tκ/2π=0..."
     ]
    },
    {
     "name": "stdout",
     "output_type": "stream",
     "text": [
      "5..."
     ]
    },
    {
     "name": "stdout",
     "output_type": "stream",
     "text": [
      "10..."
     ]
    },
    {
     "name": "stdout",
     "output_type": "stream",
     "text": [
      "15..."
     ]
    },
    {
     "name": "stdout",
     "output_type": "stream",
     "text": [
      "20..."
     ]
    },
    {
     "name": "stdout",
     "output_type": "stream",
     "text": [
      "25..."
     ]
    },
    {
     "name": "stdout",
     "output_type": "stream",
     "text": [
      "30..."
     ]
    },
    {
     "name": "stdout",
     "output_type": "stream",
     "text": [
      "35..."
     ]
    },
    {
     "name": "stdout",
     "output_type": "stream",
     "text": [
      "40..."
     ]
    },
    {
     "name": "stdout",
     "output_type": "stream",
     "text": [
      "45..."
     ]
    },
    {
     "name": "stdout",
     "output_type": "stream",
     "text": [
      "50..."
     ]
    },
    {
     "name": "stdout",
     "output_type": "stream",
     "text": [
      "55..."
     ]
    },
    {
     "name": "stdout",
     "output_type": "stream",
     "text": [
      "60..."
     ]
    },
    {
     "name": "stdout",
     "output_type": "stream",
     "text": [
      "65..."
     ]
    },
    {
     "name": "stdout",
     "output_type": "stream",
     "text": [
      "70..."
     ]
    },
    {
     "name": "stdout",
     "output_type": "stream",
     "text": [
      "75..."
     ]
    },
    {
     "name": "stdout",
     "output_type": "stream",
     "text": [
      "80..."
     ]
    },
    {
     "name": "stdout",
     "output_type": "stream",
     "text": [
      "85..."
     ]
    },
    {
     "name": "stdout",
     "output_type": "stream",
     "text": [
      "90..."
     ]
    },
    {
     "name": "stdout",
     "output_type": "stream",
     "text": [
      "95..."
     ]
    },
    {
     "name": "stdout",
     "output_type": "stream",
     "text": [
      "\nSimulating for ΔP/2π=80\n\tκ/2π=0..."
     ]
    },
    {
     "name": "stdout",
     "output_type": "stream",
     "text": [
      "5..."
     ]
    },
    {
     "name": "stdout",
     "output_type": "stream",
     "text": [
      "10..."
     ]
    },
    {
     "name": "stdout",
     "output_type": "stream",
     "text": [
      "15..."
     ]
    },
    {
     "name": "stdout",
     "output_type": "stream",
     "text": [
      "20..."
     ]
    },
    {
     "name": "stdout",
     "output_type": "stream",
     "text": [
      "25..."
     ]
    },
    {
     "name": "stdout",
     "output_type": "stream",
     "text": [
      "30..."
     ]
    },
    {
     "name": "stdout",
     "output_type": "stream",
     "text": [
      "35..."
     ]
    },
    {
     "name": "stdout",
     "output_type": "stream",
     "text": [
      "40..."
     ]
    },
    {
     "name": "stdout",
     "output_type": "stream",
     "text": [
      "45..."
     ]
    },
    {
     "name": "stdout",
     "output_type": "stream",
     "text": [
      "50..."
     ]
    },
    {
     "name": "stdout",
     "output_type": "stream",
     "text": [
      "55..."
     ]
    },
    {
     "name": "stdout",
     "output_type": "stream",
     "text": [
      "60..."
     ]
    },
    {
     "name": "stdout",
     "output_type": "stream",
     "text": [
      "65..."
     ]
    },
    {
     "name": "stdout",
     "output_type": "stream",
     "text": [
      "70..."
     ]
    },
    {
     "name": "stdout",
     "output_type": "stream",
     "text": [
      "75..."
     ]
    },
    {
     "name": "stdout",
     "output_type": "stream",
     "text": [
      "80..."
     ]
    },
    {
     "name": "stdout",
     "output_type": "stream",
     "text": [
      "85..."
     ]
    },
    {
     "name": "stdout",
     "output_type": "stream",
     "text": [
      "90..."
     ]
    },
    {
     "name": "stdout",
     "output_type": "stream",
     "text": [
      "95..."
     ]
    },
    {
     "name": "stdout",
     "output_type": "stream",
     "text": [
      "\nSimulating for ΔP/2π=85\n\tκ/2π=0..."
     ]
    },
    {
     "name": "stdout",
     "output_type": "stream",
     "text": [
      "5..."
     ]
    },
    {
     "name": "stdout",
     "output_type": "stream",
     "text": [
      "10..."
     ]
    },
    {
     "name": "stdout",
     "output_type": "stream",
     "text": [
      "15..."
     ]
    },
    {
     "name": "stdout",
     "output_type": "stream",
     "text": [
      "20..."
     ]
    },
    {
     "name": "stdout",
     "output_type": "stream",
     "text": [
      "25..."
     ]
    },
    {
     "name": "stdout",
     "output_type": "stream",
     "text": [
      "30..."
     ]
    },
    {
     "name": "stdout",
     "output_type": "stream",
     "text": [
      "35..."
     ]
    },
    {
     "name": "stdout",
     "output_type": "stream",
     "text": [
      "40..."
     ]
    },
    {
     "name": "stdout",
     "output_type": "stream",
     "text": [
      "45..."
     ]
    },
    {
     "name": "stdout",
     "output_type": "stream",
     "text": [
      "50..."
     ]
    },
    {
     "name": "stdout",
     "output_type": "stream",
     "text": [
      "55..."
     ]
    },
    {
     "name": "stdout",
     "output_type": "stream",
     "text": [
      "60..."
     ]
    },
    {
     "name": "stdout",
     "output_type": "stream",
     "text": [
      "65..."
     ]
    },
    {
     "name": "stdout",
     "output_type": "stream",
     "text": [
      "70..."
     ]
    },
    {
     "name": "stdout",
     "output_type": "stream",
     "text": [
      "75..."
     ]
    },
    {
     "name": "stdout",
     "output_type": "stream",
     "text": [
      "80..."
     ]
    },
    {
     "name": "stdout",
     "output_type": "stream",
     "text": [
      "85..."
     ]
    },
    {
     "name": "stdout",
     "output_type": "stream",
     "text": [
      "90..."
     ]
    },
    {
     "name": "stdout",
     "output_type": "stream",
     "text": [
      "95..."
     ]
    },
    {
     "name": "stdout",
     "output_type": "stream",
     "text": [
      "\nSimulating for ΔP/2π=90\n\tκ/2π=0..."
     ]
    },
    {
     "name": "stdout",
     "output_type": "stream",
     "text": [
      "5..."
     ]
    },
    {
     "name": "stdout",
     "output_type": "stream",
     "text": [
      "10..."
     ]
    },
    {
     "name": "stdout",
     "output_type": "stream",
     "text": [
      "15..."
     ]
    },
    {
     "name": "stdout",
     "output_type": "stream",
     "text": [
      "20..."
     ]
    },
    {
     "name": "stdout",
     "output_type": "stream",
     "text": [
      "25..."
     ]
    },
    {
     "name": "stdout",
     "output_type": "stream",
     "text": [
      "30..."
     ]
    },
    {
     "name": "stdout",
     "output_type": "stream",
     "text": [
      "35..."
     ]
    },
    {
     "name": "stdout",
     "output_type": "stream",
     "text": [
      "40..."
     ]
    },
    {
     "name": "stdout",
     "output_type": "stream",
     "text": [
      "45..."
     ]
    },
    {
     "name": "stdout",
     "output_type": "stream",
     "text": [
      "50..."
     ]
    },
    {
     "name": "stdout",
     "output_type": "stream",
     "text": [
      "55..."
     ]
    },
    {
     "name": "stdout",
     "output_type": "stream",
     "text": [
      "60..."
     ]
    },
    {
     "name": "stdout",
     "output_type": "stream",
     "text": [
      "65..."
     ]
    },
    {
     "name": "stdout",
     "output_type": "stream",
     "text": [
      "70..."
     ]
    },
    {
     "name": "stdout",
     "output_type": "stream",
     "text": [
      "75..."
     ]
    },
    {
     "name": "stdout",
     "output_type": "stream",
     "text": [
      "80..."
     ]
    },
    {
     "name": "stdout",
     "output_type": "stream",
     "text": [
      "85..."
     ]
    },
    {
     "name": "stdout",
     "output_type": "stream",
     "text": [
      "90..."
     ]
    },
    {
     "name": "stdout",
     "output_type": "stream",
     "text": [
      "95..."
     ]
    },
    {
     "name": "stdout",
     "output_type": "stream",
     "text": [
      "\nSimulating for ΔP/2π=95\n\tκ/2π=0..."
     ]
    },
    {
     "name": "stdout",
     "output_type": "stream",
     "text": [
      "5..."
     ]
    },
    {
     "name": "stdout",
     "output_type": "stream",
     "text": [
      "10..."
     ]
    },
    {
     "name": "stdout",
     "output_type": "stream",
     "text": [
      "15..."
     ]
    },
    {
     "name": "stdout",
     "output_type": "stream",
     "text": [
      "20..."
     ]
    },
    {
     "name": "stdout",
     "output_type": "stream",
     "text": [
      "25..."
     ]
    },
    {
     "name": "stdout",
     "output_type": "stream",
     "text": [
      "30..."
     ]
    },
    {
     "name": "stdout",
     "output_type": "stream",
     "text": [
      "35..."
     ]
    },
    {
     "name": "stdout",
     "output_type": "stream",
     "text": [
      "40..."
     ]
    },
    {
     "name": "stdout",
     "output_type": "stream",
     "text": [
      "45..."
     ]
    },
    {
     "name": "stdout",
     "output_type": "stream",
     "text": [
      "50..."
     ]
    },
    {
     "name": "stdout",
     "output_type": "stream",
     "text": [
      "55..."
     ]
    },
    {
     "name": "stdout",
     "output_type": "stream",
     "text": [
      "60..."
     ]
    },
    {
     "name": "stdout",
     "output_type": "stream",
     "text": [
      "65..."
     ]
    },
    {
     "name": "stdout",
     "output_type": "stream",
     "text": [
      "70..."
     ]
    },
    {
     "name": "stdout",
     "output_type": "stream",
     "text": [
      "75..."
     ]
    },
    {
     "name": "stdout",
     "output_type": "stream",
     "text": [
      "80..."
     ]
    },
    {
     "name": "stdout",
     "output_type": "stream",
     "text": [
      "85..."
     ]
    },
    {
     "name": "stdout",
     "output_type": "stream",
     "text": [
      "90..."
     ]
    },
    {
     "name": "stdout",
     "output_type": "stream",
     "text": [
      "95..."
     ]
    },
    {
     "name": "stdout",
     "output_type": "stream",
     "text": [
      "\ndone.\n"
     ]
    }
   ],
   "source": [
    "psi0 = ['x',0,0]\n",
    "t_length = 1\n",
    "n_steps = 501\n",
    "\n",
    "sp_em, n_ph = {},{}\n",
    "\n",
    "deltaPs = np.arange(0,100,5)\n",
    "kappas = np.arange(0,100,5)\n",
    "\n",
    "for deltaP in deltaPs:\n",
    "    print('\\nSimulating for {0}P/2{1}={2}'.format(Delta_str, pi_str, deltaP),end='\\n\\t')\n",
    "    sp_em_temp, n_ph_temp = [], []\n",
    "    print('{0}/2{1}='.format(kappa_str, pi_str), end='')\n",
    "    for kappa in kappas:\n",
    "        print(kappa, end='...')\n",
    "        \n",
    "        cav.kappa1 = kappa * 2 * np.pi\n",
    "        cav.kappa2 = kappa * 2 * np.pi\n",
    "        cav.deltaP = deltaP * 2 * np.pi\n",
    "        \n",
    "        runner = ExperimentalRunner(atom4lvl,cav,[],cavity_coupling,\n",
    "                                    verbose=False, reconfigurable_decay_rates=True)\n",
    "        results = runner.run(psi0, t_length, n_steps)\n",
    "        \n",
    "        sp_em_temp.append(results.get_total_spontaneous_emission())\n",
    "        n_ph_temp.append(sum(results.get_total_cavity_emission(results.compiled_hamiltonian.atom.R_AL)))\n",
    "        \n",
    "    sp_em[deltaP] = [kappas, np.array(sp_em_temp)]\n",
    "    n_ph[deltaP] = [kappas, np.array(n_ph_temp)]\n",
    "print('\\ndone.')"
   ]
  },
  {
   "cell_type": "code",
   "execution_count": 104,
   "metadata": {},
   "outputs": [],
   "source": [
    "def plot(deltaP=0):\n",
    "        \n",
    "    f, ((ax1,ax2)) = plt.subplots(2, 1, sharex=True, figsize=(8, 6))\n",
    "    \n",
    "    kappas, sp_0 = sp_em[0]\n",
    "    kappas, n_0 = n_ph[0]\n",
    "    \n",
    "    l_sp, = ax1.plot(kappas, sp_0,  '--')\n",
    "    l_n, =  ax1.plot(kappas, n_0,  '--')\n",
    "    ax1.legend()\n",
    "    \n",
    "    kappas, sp = sp_em[deltaP]\n",
    "    kappas, n = n_ph[deltaP]\n",
    "    \n",
    "    ax1.plot(kappas, sp, color=l_sp.get_color(), label = \"Spont. emm.\")\n",
    "    ax1.plot(kappas, n, color=l_n.get_color(), label = \"Cav. emm.\")\n",
    "    ax1.legend()\n",
    "    \n",
    "    l_FP, = ax2.plot(kappas, [n/(s+n) for s,n in zip(sp_0, n_0)], '--')\n",
    "    ax2.plot(kappas, [n/(s+n) for s,n in zip(sp, n)], color=l_FP.get_color(), label = \"Eff FP\")\n",
    "    ax2.plot(kappas, [2*g**2/(2*kappa*gamma) for kappa in [k*2*np.pi for k in kappas]], label = \"2C\")\n",
    "    ax2.set_ylim([0,1])\n",
    "    ax2.legend()\n",
    "    \n",
    "    ax2.set_xlabel('$\\kappa/2\\pi$')\n",
    "        \n",
    "    ax1.set_title('$\\Delta_P/2\\pi={}MHz$'.format(deltaP))"
   ]
  },
  {
   "cell_type": "code",
   "execution_count": 107,
   "metadata": {},
   "outputs": [
    {
     "name": "stderr",
     "output_type": "stream",
     "text": [
      "/anaconda3/envs/rb-cqed-env/lib/python3.6/site-packages/matplotlib/axes/_axes.py:545: UserWarning: No labelled objects found. Use label='...' kwarg on individual plots.\n  warnings.warn(\"No labelled objects found. \"\n/anaconda3/envs/rb-cqed-env/lib/python3.6/site-packages/ipykernel_launcher.py:21: RuntimeWarning: divide by zero encountered in double_scalars\n"
     ]
    },
    {
     "data": {
      "image/png": "[encoded data removed]",
      "text/plain": [
       "<matplotlib.figure.Figure at 0x159facda0>"
      ]
     },
     "metadata": {},
     "output_type": "display_data"
    }
   ],
   "source": [
    "i=-1\n",
    "plot(deltaPs[i])"
   ]
  },
  {
   "cell_type": "code",
   "execution_count": 121,
   "metadata": {},
   "outputs": [
    {
     "data": {
      "text/plain": [
       "<matplotlib.colorbar.Colorbar at 0x162c90978>"
      ]
     },
     "execution_count": 121,
     "metadata": {},
     "output_type": "execute_result"
    },
    {
     "data": {
      "image/png": "[encoded data removed]",
      "text/plain": [
       "<matplotlib.figure.Figure at 0x12d6a3550>"
      ]
     },
     "metadata": {},
     "output_type": "display_data"
    }
   ],
   "source": [
    "sp_ems_kappa_arr = np.array([x[0] for x in list(sp_em.values())])\n",
    "sp_ems_deltaP_arr = np.array([list(sp_em.keys())]*len(sp_ems_kappa_arr.transpose())).transpose()\n",
    "sp_ems_arr = np.array([x[1] for x in list(sp_em.values())])\n",
    "\n",
    "fig, (ax) = plt.subplots(nrows=1)\n",
    "\n",
    "im = plt.contourf(sp_ems_kappa_arr, sp_ems_deltaP_arr, sp_ems_arr, cmap=plt.get_cmap('viridis'))\n",
    "fig.colorbar(im, ax=ax)"
   ]
  },
  {
   "cell_type": "code",
   "execution_count": 126,
   "metadata": {},
   "outputs": [
    {
     "data": {
      "text/plain": [
       "<matplotlib.colorbar.Colorbar at 0x1633b3f98>"
      ]
     },
     "execution_count": 126,
     "metadata": {},
     "output_type": "execute_result"
    },
    {
     "data": {
      "image/png": "[encoded data removed]",
      "text/plain": [
       "<matplotlib.figure.Figure at 0x163235278>"
      ]
     },
     "metadata": {},
     "output_type": "display_data"
    }
   ],
   "source": [
    "fig, (ax) = plt.subplots(nrows=1)\n",
    "im = plt.imshow(sp_ems_arr, cmap='viridis', interpolation='nearest')\n",
    "fig.colorbar(im, ax=ax)"
   ]
  },
  {
   "cell_type": "code",
   "execution_count": 130,
   "metadata": {},
   "outputs": [
    {
     "data": {
      "text/plain": [
       "<matplotlib.colorbar.Colorbar at 0x163986c18>"
      ]
     },
     "execution_count": 130,
     "metadata": {},
     "output_type": "execute_result"
    },
    {
     "data": {
      "image/png": "[encoded data removed]",
      "text/plain": [
       "<matplotlib.figure.Figure at 0x16385b978>"
      ]
     },
     "metadata": {},
     "output_type": "display_data"
    }
   ],
   "source": [
    "fig = plt.figure()\n",
    "ax = fig.gca(projection='3d')\n",
    "\n",
    "im = ax.plot_surface(sp_ems_kappa_arr, sp_ems_deltaP_arr, sp_ems_arr,  cmap='viridis_r', \n",
    "                       linewidth=0, antialiased=False)\n",
    "fig.colorbar(im, ax=ax)"
   ]
  },
  {
   "cell_type": "code",
   "execution_count": 94,
   "metadata": {},
   "outputs": [
    {
     "name": "stdout",
     "output_type": "stream",
     "text": [
      "(20, 8) (20, 8) (20, 8)\n"
     ]
    }
   ],
   "source": [
    "sp_ems_kappa_arr = np.array([x[0] for x in list(sp_em.values())])\n",
    "sp_ems_deltaP_arr = np.array([list(sp_em.keys())]*len(sp_ems_kappa_arr.transpose())).transpose()\n",
    "sp_ems_arr = np.array([x[1] for x in list(sp_em.values())])\n",
    "\n",
    "print(sp_ems_deltaP_arr.shape,sp_ems_kappa_arr.shape,sp_ems_arr.shape)"
   ]
  },
  {
   "cell_type": "markdown",
   "metadata": {},
   "source": [
    "##### Initial observations\n",
    "\n",
    "* The 'optimum' extraction enhancement seems to be at low $\\kappa$ and with $\\Delta_{P}{\\approx}g$.\n",
    "* Stronger coupling systems (i.e. higher $g$) seem to benefit more from birefringent enhancements.\n",
    "* This is good as higher $g$ and lower $\\kappa$ go hand-in-hand in the real world -- perhaps we should look to qunatuify this relationship next."
   ]
  },
  {
   "cell_type": "markdown",
   "metadata": {},
   "source": [
    "###Optimising extraction with $\\kappa$"
   ]
  },
  {
   "cell_type": "code",
   "execution_count": 148,
   "metadata": {},
   "outputs": [],
   "source": [
    "class CavityExtractionOptimisationProblem():\n",
    "    \n",
    "    psi0 = ['x',0]\n",
    "    t_length = 1\n",
    "    n_steps = 501\n",
    "        \n",
    "    def __init__(self, atom, cavity, laser_couplings, cavity_couplings):\n",
    "        self.atom = atom\n",
    "        self.cavity = cavity\n",
    "        self.laser_couplings = laser_couplings\n",
    "        self.cavity_couplings = cavity_couplings\n",
    "        \n",
    "    def fitness(self, x):\n",
    "        kappa = x[0]\n",
    "        self.cavity.kappa = kappa\n",
    "        runner = ExperimentalRunner(self.atom,self.cavity,self.laser_couplings,self.cavity_couplings,verbose=False,reconfigurable_decay_rates=True)\n",
    "        res = runner.run(self.psi0, self.t_length, self.n_steps)\n",
    "        return [1-res.get_total_cavity_emission()] # pygmo requires fitness vectors\n",
    "    \n",
    "    def get_name(self):\n",
    "        return \"Cavity Extraction Optimisation Problem\"\n",
    "    \n",
    "    def get_bounds(self):\n",
    "        return ([0],[100*2*np.pi])"
   ]
  },
  {
   "cell_type": "code",
   "execution_count": 142,
   "metadata": {},
   "outputs": [],
   "source": [
    "nl = pg.nlopt('cobyla')\n",
    "nl.xtol_rel = 1E-6\n",
    "\n",
    "algo = pg.algorithm(nl)\n",
    "algo.set_verbosity(1)\n",
    "\n",
    "atom4lvl = Atom4lvl(gamma=3*2*np.pi, configured_states=['x','gP','g'], sink_state='g')\n",
    "\n",
    "results = []\n",
    "\n",
    "for g in [3,5,15,30]:\n",
    "\n",
    "    cav = Cavity(g=g*2*np.pi, kappa=0)\n",
    "    \n",
    "    cavity_coupling = CavityCoupling(g0=cav.g,\n",
    "                                     g='gP', x='x',\n",
    "                                     deltaC = 0 * 2*np.pi,\n",
    "                                     deltaM=[1,-1],\n",
    "                                     couple_off_resonance=False)\n",
    "    \n",
    "    prob = pg.problem(CavityExtractionOptimisationProblem(atom4lvl,cav,[],[cavity_coupling]))\n",
    "    \n",
    "    pop = pg.population(prob, 10)\n",
    "    pop = algo.evolve(pop)\n",
    "    \n",
    "    results.append([g,pop])"
   ]
  },
  {
   "cell_type": "code",
   "execution_count": 143,
   "metadata": {},
   "outputs": [
    {
     "name": "stdout",
     "output_type": "stream",
     "text": [
      "For g/2π=3MHz: maximum extraction at κ/2π=3.0 of 25.0%.\nFor g/2π=5MHz: maximum extraction at κ/2π=5.0 of 39.06%.\nFor g/2π=15MHz: maximum extraction at κ/2π=15.04 of 69.44%.\nFor g/2π=30MHz: maximum extraction at κ/2π=29.65 of 82.61%.\n"
     ]
    }
   ],
   "source": [
    "for g, pop in results:\n",
    "    print('For g/2{0}={1}MHz: maximum extraction at {2}/2{0}={3} of {4}%.'.format(pi_str,\n",
    "                                                                             np.round(g,2),\n",
    "                                                                             kappa_str,\n",
    "                                                                             np.round(pop.champion_x[0] / (2*np.pi),2),\n",
    "                                                                             np.round(100*(1-pop.champion_f[0]),2)))"
   ]
  },
  {
   "cell_type": "code",
   "execution_count": 147,
   "metadata": {},
   "outputs": [
    {
     "data": {
      "text/plain": [
       "(<matplotlib.figure.Figure at 0x130249c50>,\n <matplotlib.figure.Figure at 0x1312e8198>)"
      ]
     },
     "execution_count": 147,
     "metadata": {},
     "output_type": "execute_result"
    },
    {
     "data": {
      "image/png": "[encoded data removed]",
      "text/plain": [
       "<matplotlib.figure.Figure at 0x130249c50>"
      ]
     },
     "metadata": {},
     "output_type": "display_data"
    },
    {
     "data": {
      "image/png": "[encoded data removed]",
      "text/plain": [
       "<matplotlib.figure.Figure at 0x1312e8198>"
      ]
     },
     "metadata": {},
     "output_type": "display_data"
    }
   ],
   "source": [
    "i_res = 1\n",
    "\n",
    "g, pop = results[i_res]\n",
    "kappa=pop.champion_x[0]\n",
    "\n",
    "psi0 = ['x',0]\n",
    "t_length = 1\n",
    "n_steps = 501\n",
    "\n",
    "atom4lvl = Atom4lvl(gamma=gamma, configured_states=['x','gP','g'], sink_state='g')\n",
    "\n",
    "cav = Cavity(g=g*2*np.pi, kappa=kappa)\n",
    "    \n",
    "cavity_coupling = CavityCoupling(g0=cav.g,\n",
    "                                 g='gP', x='x',\n",
    "                                 deltaC = 0 * 2*np.pi,\n",
    "                                 deltaM=[1,-1],\n",
    "                                 couple_off_resonance=False)\n",
    "\n",
    "runner = ExperimentalRunner(atom4lvl,cav,[],cavity_coupling,\n",
    "                            verbose=False, reconfigurable_decay_rates=True)\n",
    "res = runner.run(psi0, t_length, n_steps)\n",
    "\n",
    "res.plot()"
   ]
  },
  {
   "cell_type": "markdown",
   "metadata": {},
   "source": [
    "###Optimising extraction with $\\kappa$ and $\\Delta_P$"
   ]
  },
  {
   "cell_type": "code",
   "execution_count": 9,
   "metadata": {},
   "outputs": [],
   "source": [
    "class CavityBirefExtractionOptimisationProblem():\n",
    "    \n",
    "    psi0 = ['x',0,0]\n",
    "    t_length = 1\n",
    "    n_steps = 201\n",
    "        \n",
    "    def __init__(self, atom, cavity, laser_couplings, cavity_couplings):\n",
    "        self.atom = atom\n",
    "        self.cavity = cavity\n",
    "        self.laser_couplings = laser_couplings\n",
    "        self.cavity_couplings = cavity_couplings\n",
    "        \n",
    "    def fitness(self, x):\n",
    "        kappa, deltaP = x[0],x[1]\n",
    "        self.cavity.kappa1 = kappa\n",
    "        self.cavity.kappa2 = kappa\n",
    "        self.cavity.deltaP = deltaP\n",
    "        runner = ExperimentalRunner(self.atom,self.cavity,self.laser_couplings,self.cavity_couplings,verbose=False,reconfigurable_decay_rates=True)\n",
    "        res = runner.run(self.psi0, self.t_length, self.n_steps)\n",
    "        return [1-sum(res.get_total_cavity_emission(np.matrix([[1,0],[0,1]])))] # pygmo requires fitness vectors\n",
    "    \n",
    "    def get_name(self):\n",
    "        return \"Cavity Extraction Optimisation Problem\"\n",
    "    \n",
    "    def get_bounds(self):\n",
    "        return ([0]*2,[100*2*np.pi]*2)"
   ]
  },
  {
   "cell_type": "code",
   "execution_count": 11,
   "metadata": {},
   "outputs": [],
   "source": [
    "nl = pg.nlopt('cobyla')\n",
    "nl.xtol_rel = 1E-3\n",
    "\n",
    "algo = pg.algorithm(nl)\n",
    "algo.set_verbosity(1)\n",
    "\n",
    "atom4lvl = Atom4lvl(gamma=3*2*np.pi, configured_states=['x','gP','g'], sink_state='g')\n",
    "\n",
    "results = []\n",
    "\n",
    "for g in [3,5,15,30]:\n",
    "\n",
    "    cav = CavityBiref(g=g*2*np.pi,kappa1=0,kappa2=0,deltaP=0)\n",
    "    \n",
    "    cavity_coupling = CavityCoupling(g0=cav.g,\n",
    "                                     g='gP', x='x',\n",
    "                                     deltaC = 0 * 2*np.pi,\n",
    "                                     deltaM=[1,-1],\n",
    "                                     couple_off_resonance=False)\n",
    "    \n",
    "    prob = pg.problem(CavityBirefExtractionOptimisationProblem(atom4lvl,cav,[],[cavity_coupling]))\n",
    "    \n",
    "    pop = pg.population(prob, 10)\n",
    "    pop = algo.evolve(pop)\n",
    "    \n",
    "    results.append([g,pop])"
   ]
  },
  {
   "cell_type": "code",
   "execution_count": null,
   "metadata": {},
   "outputs": [],
   "source": []
  }
 ],
 "metadata": {
  "kernelspec": {
   "display_name": "Python 2",
   "language": "python",
   "name": "python2"
  },
  "language_info": {
   "codemirror_mode": {
    "name": "ipython",
    "version": 2
   },
   "file_extension": ".py",
   "mimetype": "text/x-python",
   "name": "python",
   "nbconvert_exporter": "python",
   "pygments_lexer": "ipython2",
   "version": "2.7.6"
  }
 },
 "nbformat": 4,
 "nbformat_minor": 0
}
